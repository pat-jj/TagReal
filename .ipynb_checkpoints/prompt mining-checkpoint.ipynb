{
 "cells": [
  {
   "cell_type": "code",
   "execution_count": 1,
   "id": "bfdba84e",
   "metadata": {},
   "outputs": [
    {
     "name": "stderr",
     "output_type": "stream",
     "text": [
      "/home/pj20/miniconda3/envs/kgc/lib/python3.8/site-packages/tqdm/auto.py:22: TqdmWarning: IProgress not found. Please update jupyter and ipywidgets. See https://ipywidgets.readthedocs.io/en/stable/user_install.html\n",
      "  from .autonotebook import tqdm as notebook_tqdm\n",
      "2022-10-22 19:24:28 INFO: Writing properties to tmp file: corenlp_server-88e5e1c3adf541b1.props\n",
      "2022-10-22 19:24:28 INFO: Starting server with command: java -Xmx5G -cp ../stanford-corenlp/stanford-corenlp-full-2018-10-05/* edu.stanford.nlp.pipeline.StanfordCoreNLPServer -port 9000 -timeout 150000000 -threads 5 -maxCharLength 100000 -quiet True -serverProperties corenlp_server-88e5e1c3adf541b1.props -annotators openie -preload -outputFormat serialized\n"
     ]
    }
   ],
   "source": [
    "# ! unset http_proxy\n",
    "# ! unset https_proxy\n",
    "\n",
    "# from openie import StanfordOpenIE\n",
    "# import os\n",
    "# os.environ[\"CORENLP_HOME\"] = '../stanford-corenlp/stanford-corenlp-full-2018-10-05'\n",
    "# import stanza\n",
    "# # Import client module\n",
    "# from stanza.server import CoreNLPClient\n",
    "\n",
    "# client = CoreNLPClient(timeout=150000000, be_quiet=True, annotators=['openie'], classpath='../stanford-corenlp/stanford-corenlp-full-2018-10-05/*')\n",
    "# client.start()\n",
    "# import time\n",
    "# time.sleep(10)\n",
    "# text = \"Colm J. Neilson , of Belle Harbor , Queens , said he thought the conductors\"\n",
    "# document = client.annotate(text, output_format='json')\n",
    "# triples = []\n",
    "# for sentence in document['sentences']:\n",
    "#     for triple in sentence['openie']:\n",
    "#         triples.append({\n",
    "#            'subject': triple['subject'],\n",
    "#            'relation': triple['relation'],\n",
    "#             'object': triple['object']\n",
    "#         })\n",
    "# print(triples)"
   ]
  },
  {
   "cell_type": "code",
   "execution_count": 5,
   "id": "1e0f7c5f",
   "metadata": {},
   "outputs": [
    {
     "name": "stderr",
     "output_type": "stream",
     "text": [
      "Reusing dataset wikipedia (/home/pj20/.cache/huggingface/datasets/wikipedia/20220301.en/2.0.0/aa542ed919df55cc5d3347f42dd4521d05ca68751f50dbc32bae2a7f1e167559)\n",
      "100%|███████████████████████████████████████████████████████████████████████████████████████████████████████████████████████████████████████████████████████| 1/1 [00:00<00:00, 12.34it/s]\n"
     ]
    }
   ],
   "source": [
    "from datasets import load_dataset\n",
    "\n",
    "wiki_dataset = load_dataset(\"wikipedia\", \"20220301.en\")"
   ]
  },
  {
   "cell_type": "code",
   "execution_count": 6,
   "id": "a95b8c68",
   "metadata": {},
   "outputs": [],
   "source": [
    "wiki_dataset = wiki_dataset['train']"
   ]
  },
  {
   "cell_type": "code",
   "execution_count": 7,
   "id": "0f126fd9",
   "metadata": {},
   "outputs": [
    {
     "data": {
      "text/plain": [
       "datasets.arrow_dataset.Dataset"
      ]
     },
     "execution_count": 7,
     "metadata": {},
     "output_type": "execute_result"
    }
   ],
   "source": [
    "type(wiki_dataset)"
   ]
  },
  {
   "cell_type": "code",
   "execution_count": 13,
   "id": "34bb8aa8",
   "metadata": {},
   "outputs": [
    {
     "data": {
      "text/plain": [
       "'Anarchism is a political philosophy and movement that is sceptical of authority and rejects all involuntary, coercive forms of hierarchy.'"
      ]
     },
     "execution_count": 13,
     "metadata": {},
     "output_type": "execute_result"
    }
   ],
   "source": [
    "wiki_dataset[0]['text'].split('.')[0] + '.'"
   ]
  },
  {
   "cell_type": "code",
   "execution_count": 23,
   "id": "68794d4d",
   "metadata": {},
   "outputs": [
    {
     "name": "stdout",
     "output_type": "stream",
     "text": [
      "Untitled.ipynb\r\n"
     ]
    }
   ],
   "source": [
    "! ls ../../../data/pj20"
   ]
  },
  {
   "cell_type": "code",
   "execution_count": 24,
   "id": "72549d68",
   "metadata": {},
   "outputs": [
    {
     "name": "stderr",
     "output_type": "stream",
     "text": [
      "100%|████████████████████████████████████████████████████████████████████████████████████████████████████████████████████████████████████████| 6458670/6458670 [08:10<00:00, 13176.50it/s]\n"
     ]
    }
   ],
   "source": [
    "from tqdm import tqdm\n",
    "\n",
    "corpus_text = \"\"\n",
    "\n",
    "for context in tqdm(wiki_dataset):\n",
    "    split_text = context['text'].split('.')\n",
    "    for t in split_text:\n",
    "        line = t + '.\\n'\n",
    "        corpus_text = corpus_text + line\n",
    "    \n",
    "w_text = open(\"../../../data/pj20/corpus_text.txt\", 'w', encoding='utf-8')\n",
    "print(corpus_text, file=w_text)"
   ]
  },
  {
   "cell_type": "code",
   "execution_count": null,
   "id": "bfaa5819",
   "metadata": {},
   "outputs": [],
   "source": [
    "with open(corpus_path) as f:\n",
    "    corpus_lines = f.readlines()"
   ]
  },
  {
   "cell_type": "code",
   "execution_count": null,
   "id": "51b55bba",
   "metadata": {},
   "outputs": [
    {
     "name": "stderr",
     "output_type": "stream",
     "text": [
      "  0%|                                                                                                                                                           | 0/18316 [00:00<?, ?it/s]\n",
      "  0%|                                                                                                                                                       | 0/395911720 [00:00<?, ?it/s]\u001b[A\n",
      "  0%|                                                                                                                                     | 284740/395911720 [00:00<02:18, 2847280.52it/s]\u001b[A\n",
      "  0%|▏                                                                                                                                    | 676681/395911720 [00:00<01:53, 3477877.45it/s]\u001b[A\n",
      "  0%|▎                                                                                                                                   | 1120489/395911720 [00:00<01:40, 3916264.39it/s]\u001b[A\n",
      "  0%|▌                                                                                                                                   | 1575658/395911720 [00:00<01:34, 4167084.72it/s]\u001b[A\n",
      "  1%|▋                                                                                                                                   | 2036175/395911720 [00:00<01:31, 4325019.26it/s]\u001b[A\n",
      "  1%|▊                                                                                                                                   | 2502314/395911720 [00:00<01:28, 4439356.21it/s]\u001b[A\n",
      "  1%|▉                                                                                                                                   | 2976536/395911720 [00:00<01:26, 4538319.83it/s]\u001b[A\n",
      "  1%|█▏                                                                                                                                  | 3447351/395911720 [00:00<01:25, 4592340.77it/s]\u001b[A\n",
      "  1%|█▎                                                                                                                                  | 3923004/395911720 [00:00<01:24, 4643613.84it/s]\u001b[A\n",
      "  1%|█▍                                                                                                                                  | 4393781/395911720 [00:01<01:23, 4663379.93it/s]\u001b[A\n",
      "  1%|█▋                                                                                                                                  | 4877618/395911720 [00:01<01:22, 4716877.69it/s]\u001b[A\n",
      "  1%|█▊                                                                                                                                  | 5349306/395911720 [00:01<01:22, 4715474.13it/s]\u001b[A\n",
      "  1%|█▉                                                                                                                                  | 5828769/395911720 [00:01<01:22, 4739418.43it/s]\u001b[A\n",
      "  2%|██                                                                                                                                  | 6309914/395911720 [00:01<01:21, 4761149.35it/s]\u001b[A\n",
      "  2%|██▎                                                                                                                                 | 6787075/395911720 [00:01<01:21, 4764276.13it/s]\u001b[A\n",
      "  2%|██▍                                                                                                                                 | 7263504/395911720 [00:01<01:21, 4761910.24it/s]\u001b[A\n",
      "  2%|██▌                                                                                                                                 | 7745428/395911720 [00:01<01:21, 4779119.65it/s]\u001b[A\n",
      "  2%|██▋                                                                                                                                 | 8223342/395911720 [00:01<01:21, 4774681.52it/s]\u001b[A\n",
      "  2%|██▉                                                                                                                                 | 8701556/395911720 [00:01<01:21, 4776897.15it/s]\u001b[A\n",
      "  2%|███                                                                                                                                 | 9181139/395911720 [00:02<01:20, 4782558.97it/s]\u001b[A\n",
      "  2%|███▏                                                                                                                                | 9659397/395911720 [00:02<01:20, 4781903.02it/s]\u001b[A\n",
      "  3%|███▎                                                                                                                               | 10137589/395911720 [00:02<01:20, 4778006.71it/s]\u001b[A\n",
      "  3%|███▌                                                                                                                               | 10617458/395911720 [00:02<01:20, 4784182.15it/s]\u001b[A\n",
      "  3%|███▋                                                                                                                               | 11102963/395911720 [00:02<01:20, 4805411.23it/s]\u001b[A\n",
      "  3%|███▊                                                                                                                               | 11584124/395911720 [00:02<01:19, 4807247.64it/s]\u001b[A\n",
      "  3%|████                                                                                                                               | 12093845/395911720 [00:02<01:18, 4894192.01it/s]"
     ]
    }
   ],
   "source": [
    "corpus_path = \"../../../data/pj20/corpus_text.txt\"\n",
    "triples_path = \"./prompt_mining/triples_nyt10.txt\"\n",
    "\n",
    "with open(triples_path) as f:\n",
    "    lines = f.readlines()\n",
    "    \n",
    "for line in tqdm(lines):\n",
    "    triple = line.split('\\t')\n",
    "    head, relation, tail = triple[0], triple[1].split('/')[3], triple[2][:-1]\n",
    "    \n",
    "    for corpus_sentence in tqdm(corpus_lines):\n",
    "        if (head in corpus_sentence) and (relation in corpus_sentence) and (tail in corpus_sentence):\n",
    "            print(corpus_sentence) "
   ]
  },
  {
   "cell_type": "code",
   "execution_count": 38,
   "id": "b51dc492",
   "metadata": {},
   "outputs": [],
   "source": []
  },
  {
   "cell_type": "code",
   "execution_count": 39,
   "id": "a2f78199",
   "metadata": {},
   "outputs": [
    {
     "data": {
      "text/plain": [
       "'Anarchism is a political philosophy and movement that is sceptical of authority and rejects all involuntary, coercive forms of hierarchy.\\n'"
      ]
     },
     "execution_count": 39,
     "metadata": {},
     "output_type": "execute_result"
    }
   ],
   "source": []
  }
 ],
 "metadata": {
  "kernelspec": {
   "display_name": "Python 3 (ipykernel)",
   "language": "python",
   "name": "python3"
  },
  "language_info": {
   "codemirror_mode": {
    "name": "ipython",
    "version": 3
   },
   "file_extension": ".py",
   "mimetype": "text/x-python",
   "name": "python",
   "nbconvert_exporter": "python",
   "pygments_lexer": "ipython3",
   "version": "3.8.13"
  }
 },
 "nbformat": 4,
 "nbformat_minor": 5
}
