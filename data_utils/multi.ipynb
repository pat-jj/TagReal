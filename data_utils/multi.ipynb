{
 "cells": [
  {
   "cell_type": "code",
   "execution_count": 22,
   "metadata": {},
   "outputs": [],
   "source": [
    "# FB60K-NYT10\n",
    "triple_set = set()\n",
    "query_set_t = set()\n",
    "query_set_h = set()\n",
    "query_set = set()\n",
    "\n",
    "\n",
    "valid_rel_list = [\n",
    "                '/people/person/nationality', '/location/location/contains', '/people/person/place_lived', '/people/person/place_of_birth',\n",
    "                '/people/deceased_person/place_of_death', '/people/person/ethnicity', '/people/ethnicity/people',\n",
    "                '/business/person/company', '/people/person/religion', '/location/neighborhood/neighborhood_of',\n",
    "                '/business/company/founders', '/people/person/children', '/location/administrative_division/country',\n",
    "                '/location/country/administrative_divisions', '/business/company/place_founded', '/location/us_county/county_seat',\n",
    "            ]\n",
    "\n",
    "with open(\"./Volumes/Aux/Downloaded/Data-Upload/FB60K+NYT10/kg/test.txt\") as f:\n",
    "    lines = f.readlines()\n",
    "\n",
    "for line in lines:\n",
    "    h, r, t = line.split('\\t')\n",
    "    t = t[:-1]\n",
    "    if r in valid_rel_list:\n",
    "        triple_set.add((h, r, t))\n",
    "        triple_set.add((t, r, h))\n",
    "        query_set_t.add((h, r))\n",
    "        query_set_h.add((t, r))\n",
    "        query_set.add((h, r))\n",
    "        query_set.add((t, r))\n"
   ]
  },
  {
   "cell_type": "code",
   "execution_count": 23,
   "metadata": {},
   "outputs": [],
   "source": [
    "triple_query_cnt = {}\n",
    "\n",
    "for rel in valid_rel_list:\n",
    "    triple_query_cnt[rel] = [0, 0]\n",
    "\n",
    "for triple in triple_set:\n",
    "    triple_query_cnt[triple[1]][0] += 1\n",
    "\n",
    "for query in query_set:\n",
    "    triple_query_cnt[query[1]][1] += 1\n",
    "\n",
    "for rel in valid_rel_list:\n",
    "    triple_query_cnt[rel].append(triple_query_cnt[rel][0] / triple_query_cnt[rel][1])"
   ]
  },
  {
   "cell_type": "code",
   "execution_count": 24,
   "metadata": {},
   "outputs": [
    {
     "data": {
      "text/plain": [
       "(17834, 10969, 6767, 4262)"
      ]
     },
     "execution_count": 24,
     "metadata": {},
     "output_type": "execute_result"
    }
   ],
   "source": [
    "len(triple_set), len(query_set), len(query_set_t), len(query_set_h)"
   ]
  },
  {
   "cell_type": "code",
   "execution_count": 25,
   "metadata": {},
   "outputs": [
    {
     "data": {
      "text/plain": [
       "{'/people/person/nationality': [4438, 2282, 1.9447852760736197],\n",
       " '/location/location/contains': [4244, 2373, 1.7884534344711336],\n",
       " '/people/person/place_lived': [3094, 2066, 1.4975798644724105],\n",
       " '/people/person/place_of_birth': [2882, 2063, 1.3969946679592826],\n",
       " '/people/deceased_person/place_of_death': [678, 518, 1.308880308880309],\n",
       " '/people/person/ethnicity': [574, 305, 1.881967213114754],\n",
       " '/people/ethnicity/people': [592, 318, 1.8616352201257862],\n",
       " '/business/person/company': [450, 379, 1.187335092348285],\n",
       " '/people/person/religion': [300, 175, 1.7142857142857142],\n",
       " '/location/neighborhood/neighborhood_of': [130, 91, 1.4285714285714286],\n",
       " '/business/company/founders': [94, 87, 1.0804597701149425],\n",
       " '/people/person/children': [56, 56, 1.0],\n",
       " '/location/administrative_division/country': [88, 72, 1.2222222222222223],\n",
       " '/location/country/administrative_divisions': [102, 79, 1.2911392405063291],\n",
       " '/business/company/place_founded': [80, 73, 1.095890410958904],\n",
       " '/location/us_county/county_seat': [32, 32, 1.0]}"
      ]
     },
     "execution_count": 25,
     "metadata": {},
     "output_type": "execute_result"
    }
   ],
   "source": [
    "triple_query_cnt"
   ]
  },
  {
   "cell_type": "code",
   "execution_count": 10,
   "metadata": {},
   "outputs": [],
   "source": []
  },
  {
   "cell_type": "code",
   "execution_count": null,
   "metadata": {},
   "outputs": [],
   "source": []
  },
  {
   "cell_type": "code",
   "execution_count": 30,
   "metadata": {},
   "outputs": [],
   "source": [
    "# FB60K-NYT10\n",
    "triple_set = set()\n",
    "query_set_t = set()\n",
    "query_set_h = set()\n",
    "query_set = set()\n",
    "\n",
    "valid_rel_list = [\n",
    "    'may_be_treated_by',\n",
    "    'may_treat',\n",
    "    'may_be_prevented_by',\n",
    "    'may_prevent',\n",
    "    'gene_mapped_to_disease',\n",
    "    'disease_mapped_to_gene',\n",
    "    'gene_associated_with_disease',\n",
    "    'disease_has_associated_gene',\n",
    "]\n",
    "\n",
    "with open(\"./Volumes/Aux/Downloaded/Data-Upload/UMLS+PubMed/kg/test.txt\") as f:\n",
    "    lines = f.readlines()\n",
    "\n",
    "for line in lines:\n",
    "    h, r, t = line.split('\\t')\n",
    "    t = t[:-1]\n",
    "    if r in valid_rel_list:\n",
    "        triple_set.add((h, r, t))\n",
    "        triple_set.add((t, r, h))\n",
    "        query_set_t.add((h, r))\n",
    "        query_set_h.add((t, r))\n",
    "        query_set.add((h, r))\n",
    "        query_set.add((t, r))\n"
   ]
  },
  {
   "cell_type": "code",
   "execution_count": 31,
   "metadata": {},
   "outputs": [],
   "source": [
    "triple_query_cnt = {}\n",
    "\n",
    "for rel in valid_rel_list:\n",
    "    triple_query_cnt[rel] = [0, 0]\n",
    "\n",
    "for triple in triple_set:\n",
    "    triple_query_cnt[triple[1]][0] += 1\n",
    "\n",
    "for query in query_set:\n",
    "    triple_query_cnt[query[1]][1] += 1\n",
    "\n",
    "for rel in valid_rel_list:\n",
    "    triple_query_cnt[rel].append(triple_query_cnt[rel][0] / triple_query_cnt[rel][1])"
   ]
  },
  {
   "cell_type": "code",
   "execution_count": 32,
   "metadata": {},
   "outputs": [
    {
     "data": {
      "text/plain": [
       "(2.1304401127865638, 4077, 4080, 8157)"
      ]
     },
     "execution_count": 32,
     "metadata": {},
     "output_type": "execute_result"
    }
   ],
   "source": [
    "len(triple_set) / len(query_set), len(query_set_t), len(query_set_h), len(query_set)"
   ]
  },
  {
   "cell_type": "code",
   "execution_count": 33,
   "metadata": {},
   "outputs": [
    {
     "data": {
      "text/plain": [
       "{'may_be_treated_by': [7020, 3118, 2.2514432328415652],\n",
       " 'may_treat': [6956, 3091, 2.250404399870592],\n",
       " 'may_be_prevented_by': [1014, 584, 1.7363013698630136],\n",
       " 'may_prevent': [1034, 586, 1.764505119453925],\n",
       " 'gene_mapped_to_disease': [596, 331, 1.8006042296072509],\n",
       " 'disease_mapped_to_gene': [652, 357, 1.826330532212885],\n",
       " 'gene_associated_with_disease': [58, 49, 1.183673469387755],\n",
       " 'disease_has_associated_gene': [48, 41, 1.170731707317073]}"
      ]
     },
     "execution_count": 33,
     "metadata": {},
     "output_type": "execute_result"
    }
   ],
   "source": [
    "triple_query_cnt"
   ]
  },
  {
   "cell_type": "code",
   "execution_count": null,
   "metadata": {},
   "outputs": [],
   "source": []
  }
 ],
 "metadata": {
  "kernelspec": {
   "display_name": "Python 3.8.13 ('kgc')",
   "language": "python",
   "name": "python3"
  },
  "language_info": {
   "codemirror_mode": {
    "name": "ipython",
    "version": 3
   },
   "file_extension": ".py",
   "mimetype": "text/x-python",
   "name": "python",
   "nbconvert_exporter": "python",
   "pygments_lexer": "ipython3",
   "version": "3.8.13"
  },
  "orig_nbformat": 4,
  "vscode": {
   "interpreter": {
    "hash": "3d0509d9aa81f2882b18eeb72d4d23c32cae9029e9b99f63cde94ba86c35ac78"
   }
  }
 },
 "nbformat": 4,
 "nbformat_minor": 2
}
