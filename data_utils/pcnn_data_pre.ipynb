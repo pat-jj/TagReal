{
 "cells": [
  {
   "cell_type": "code",
   "execution_count": 1,
   "metadata": {},
   "outputs": [],
   "source": [
    "import json\n",
    "\n",
    "f = open('../Volumes/text_pcnn_att_pred.json')\n",
    "pcnn_pred = json.load(f)"
   ]
  },
  {
   "cell_type": "code",
   "execution_count": 2,
   "metadata": {},
   "outputs": [
    {
     "data": {
      "text/plain": [
       "388920"
      ]
     },
     "execution_count": 2,
     "metadata": {},
     "output_type": "execute_result"
    }
   ],
   "source": [
    "len(pcnn_pred.keys())"
   ]
  },
  {
   "cell_type": "code",
   "execution_count": 28,
   "metadata": {},
   "outputs": [],
   "source": [
    "f = open('../TuckER/data/UMLS-PubMed/raw_data/train.json')\n",
    "dc_ = json.load(f)\n",
    "\n",
    "f = open('../TuckER/data/UMLS-PubMed/raw_data/test_5sent.json')\n",
    "tmp = json.load(f)\n",
    "\n",
    "dc = dc_ + tmp"
   ]
  },
  {
   "cell_type": "code",
   "execution_count": 4,
   "metadata": {},
   "outputs": [],
   "source": [
    "f = open('../Volumes/Aux/Downloaded/Data-Upload/UMLS+PubMed/text/rel2id.json')\n",
    "rel2id = json.load(f)"
   ]
  },
  {
   "cell_type": "code",
   "execution_count": 19,
   "metadata": {},
   "outputs": [],
   "source": [
    "def corpus2triples(corpus_list):\n",
    "    triple_set = set()\n",
    "    for item in corpus_list:\n",
    "        head = item['head']['word']\n",
    "        tail = item['tail']['word']\n",
    "        relation = rel2id[item['relation']]\n",
    "        triple = head + '\\t' + str(relation) + '\\t' + tail\n",
    "        if triple not in triple_set:\n",
    "            triple_set.add(triple)\n",
    "    \n",
    "    return triple_set\n",
    "\n",
    "def corpus2queries(corpus_list):\n",
    "    query_set = set()\n",
    "    for item in corpus_list:\n",
    "        head = item['head']['word']\n",
    "        tail = item['tail']['word']\n",
    "        query = head + '\\t' + tail\n",
    "        if query not in query_set:\n",
    "            query_set.add(query)\n",
    "    \n",
    "    return query_set\n"
   ]
  },
  {
   "cell_type": "code",
   "execution_count": 29,
   "metadata": {},
   "outputs": [
    {
     "data": {
      "text/plain": [
       "(388954, 419140)"
      ]
     },
     "execution_count": 29,
     "metadata": {},
     "output_type": "execute_result"
    }
   ],
   "source": [
    "test_triple_set = corpus2triples(tmp)\n",
    "test_query_set = corpus2queries(tmp)\n",
    "all_triple_set = corpus2triples(dc)\n",
    "train_triple_set = corpus2triples(dc_)\n",
    "len(test_triple_set), len(all_triple_set)"
   ]
  },
  {
   "cell_type": "code",
   "execution_count": 38,
   "metadata": {},
   "outputs": [
    {
     "name": "stdout",
     "output_type": "stream",
     "text": [
      "4735238\n"
     ]
    }
   ],
   "source": [
    "count = 0\n",
    "for item in dc:\n",
    "    if item['relation'] != \"NA\":\n",
    "        count += 1\n",
    "print(count)"
   ]
  },
  {
   "cell_type": "code",
   "execution_count": 39,
   "metadata": {},
   "outputs": [
    {
     "name": "stderr",
     "output_type": "stream",
     "text": [
      "100%|██████████| 388920/388920 [00:00<00:00, 516751.21it/s]\n"
     ]
    }
   ],
   "source": [
    "from tqdm import tqdm\n",
    "\n",
    "rel_list = [\n",
    "    'gene_associated_with_disease',\n",
    "    'disease_has_associated_gene',\n",
    "    'gene_mapped_to_disease',\n",
    "    'disease_mapped_to_gene',\n",
    "    'may_be_treated_by',\n",
    "    'may_treat',\n",
    "    'may_be_prevented_by',\n",
    "    'may_prevent',\n",
    "]\n",
    "\n",
    "id_list = [str(rel2id[x]) for x in rel_list]\n",
    "\n",
    "\n",
    "def filter(entity_pair, score_list, res):\n",
    "    head, tail = entity_pair.split(\"#\")\n",
    "    for item in score_list:\n",
    "        if float(item['score']) > 0.5:\n",
    "            triple = head + '\\t' + str(item['relation']) + '\\t' + tail\n",
    "            res.add(triple)\n",
    "            break\n",
    "        else:\n",
    "            break\n",
    "\n",
    "\n",
    "added_edges = set()\n",
    "for key in tqdm(pcnn_pred.keys()):\n",
    "    filter(key, pcnn_pred[key], added_edges)"
   ]
  },
  {
   "cell_type": "code",
   "execution_count": 40,
   "metadata": {},
   "outputs": [
    {
     "name": "stdout",
     "output_type": "stream",
     "text": [
      "added distribution:  {'132': 0, '165': 0, '184': 0, '177': 0, '32': 157024, '29': 35463, '33': 0, '103': 0}\n",
      "train distributoon:  {'132': 31, '165': 36, '184': 19, '177': 27, '32': 801, '29': 781, '33': 138, '103': 128}\n"
     ]
    }
   ],
   "source": [
    "id_cnt = {}\n",
    "for id in id_list:\n",
    "    id_cnt[id] = 0\n",
    "\n",
    "for edge in added_edges:\n",
    "    relation_id = edge.split('\\t')[1]\n",
    "    id_cnt[relation_id] += 1\n",
    "\n",
    "print('added distribution: ', id_cnt)\n",
    "\n",
    "for id in id_list:\n",
    "    id_cnt[id] = 0\n",
    "\n",
    "for edge in train_triple_set:\n",
    "    relation_id = edge.split('\\t')[1]\n",
    "    if relation_id in id_list:\n",
    "        id_cnt[relation_id] += 1\n",
    "\n",
    "print('train distributoon: ', id_cnt)\n"
   ]
  },
  {
   "cell_type": "code",
   "execution_count": 42,
   "metadata": {},
   "outputs": [
    {
     "data": {
      "text/plain": [
       "(192487, 388954)"
      ]
     },
     "execution_count": 42,
     "metadata": {},
     "output_type": "execute_result"
    }
   ],
   "source": [
    "added_edges_new = set()\n",
    "for item in added_edges:\n",
    "    head, tail = item.split('\\t')[0], item.split('\\t')[2]\n",
    "    query = head + '\\t' + tail\n",
    "    if query in test_query_set:\n",
    "        added_edges_new.add(item)\n",
    "\n",
    "len(added_edges_new), len(test_query_set)"
   ]
  },
  {
   "cell_type": "code",
   "execution_count": 36,
   "metadata": {},
   "outputs": [
    {
     "data": {
      "text/plain": [
       "(18854, 0)"
      ]
     },
     "execution_count": 36,
     "metadata": {},
     "output_type": "execute_result"
    }
   ],
   "source": [
    "len(added_edges), len(added_edges.intersection(train_triple_set))"
   ]
  },
  {
   "cell_type": "code",
   "execution_count": 53,
   "metadata": {},
   "outputs": [
    {
     "data": {
      "text/plain": [
       "0"
      ]
     },
     "execution_count": 53,
     "metadata": {},
     "output_type": "execute_result"
    }
   ],
   "source": [
    "added_edges_filt = set()\n",
    "\n",
    "for item in added_edges:\n",
    "    head, relation, tail = item.split('\\t')\n",
    "    if relation not in id_list:\n",
    "        continue\n",
    "    else:\n",
    "        added_edges_filt.add(item)\n",
    "len(added_edges_filt)"
   ]
  },
  {
   "cell_type": "code",
   "execution_count": 55,
   "metadata": {},
   "outputs": [
    {
     "data": {
      "text/plain": [
       "{'14', '6'}"
      ]
     },
     "execution_count": 55,
     "metadata": {},
     "output_type": "execute_result"
    }
   ],
   "source": [
    "rel_set_ = set()\n",
    "\n",
    "for item in added_edges:\n",
    "    rel_set_.add(item.split('\\t')[1])\n",
    "rel_set_"
   ]
  },
  {
   "cell_type": "code",
   "execution_count": 47,
   "metadata": {},
   "outputs": [],
   "source": [
    "f = open('../TuckER/data/UMLS-PubMed/train_100.txt')\n",
    "\n",
    "train_joint = \"\"\n",
    "kg_train = f.readlines()\n",
    "\n",
    "for item in kg_train:\n",
    "    train_joint += item\n",
    "\n",
    "for item in added_edges:\n",
    "    head, rel_id, tail = item.split('\\t')\n",
    "    if rel_id == '32':\n",
    "        relation = 'may_be_treated_by'\n",
    "    if rel_id == '29':\n",
    "        relation = 'may_treat'\n",
    "    triple = head + '\\t' + relation + '\\t' + tail + '\\n'\n",
    "    train_joint += triple\n",
    "\n",
    "train_j = open(\"./train.txt\", 'w', encoding='utf-8')\n",
    "print(train_joint, file=train_j)\n"
   ]
  },
  {
   "cell_type": "code",
   "execution_count": null,
   "metadata": {},
   "outputs": [],
   "source": []
  }
 ],
 "metadata": {
  "kernelspec": {
   "display_name": "Python 3.8.13 ('kgc')",
   "language": "python",
   "name": "python3"
  },
  "language_info": {
   "codemirror_mode": {
    "name": "ipython",
    "version": 3
   },
   "file_extension": ".py",
   "mimetype": "text/x-python",
   "name": "python",
   "nbconvert_exporter": "python",
   "pygments_lexer": "ipython3",
   "version": "3.8.13"
  },
  "orig_nbformat": 4,
  "vscode": {
   "interpreter": {
    "hash": "3d0509d9aa81f2882b18eeb72d4d23c32cae9029e9b99f63cde94ba86c35ac78"
   }
  }
 },
 "nbformat": 4,
 "nbformat_minor": 2
}
