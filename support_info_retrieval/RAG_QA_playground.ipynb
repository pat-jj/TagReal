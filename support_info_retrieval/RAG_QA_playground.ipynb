{
 "cells": [
  {
   "cell_type": "code",
   "execution_count": null,
   "outputs": [],
   "source": [
    "from RAG_QA import *\n",
    "\n",
    "dataset = build_corpus_dataset()"
   ],
   "metadata": {
    "collapsed": false
   }
  },
  {
   "cell_type": "code",
   "execution_count": null,
   "outputs": [],
   "source": [
    "dataset.push_to_hub('pat-jj/nyt10_corpus')"
   ],
   "metadata": {
    "collapsed": false
   }
  },
  {
   "cell_type": "code",
   "execution_count": null,
   "outputs": [],
   "source": [
    "dataset"
   ],
   "metadata": {
    "collapsed": false
   }
  },
  {
   "cell_type": "code",
   "execution_count": null,
   "outputs": [],
   "source": [
    "import faiss\n",
    "faiss_num_dim = 768\n",
    "faiss_num_links = 128\n",
    "index = faiss.IndexHNSWFlat(faiss_num_dim, faiss_num_links, faiss.METRIC_INNER_PRODUCT)\n",
    "dataset.add_faiss_index(\"embeddings\", custom_index=index)"
   ],
   "metadata": {
    "collapsed": false
   }
  },
  {
   "cell_type": "code",
   "execution_count": 28,
   "outputs": [
    {
     "name": "stderr",
     "output_type": "stream",
     "text": [
      "The tokenizer class you load from this checkpoint is not the same type as the class this function is called from. It may result in unexpected tokenization. \n",
      "The tokenizer class you load from this checkpoint is 'RagTokenizer'. \n",
      "The class this function is called from is 'DPRQuestionEncoderTokenizer'.\n",
      "The tokenizer class you load from this checkpoint is not the same type as the class this function is called from. It may result in unexpected tokenization. \n",
      "The tokenizer class you load from this checkpoint is 'RagTokenizer'. \n",
      "The class this function is called from is 'DPRQuestionEncoderTokenizerFast'.\n",
      "The tokenizer class you load from this checkpoint is not the same type as the class this function is called from. It may result in unexpected tokenization. \n",
      "The tokenizer class you load from this checkpoint is 'RagTokenizer'. \n",
      "The class this function is called from is 'BartTokenizer'.\n",
      "The tokenizer class you load from this checkpoint is not the same type as the class this function is called from. It may result in unexpected tokenization. \n",
      "The tokenizer class you load from this checkpoint is 'RagTokenizer'. \n",
      "The class this function is called from is 'BartTokenizerFast'.\n",
      "Some weights of the model checkpoint at facebook/rag-token-nq were not used when initializing RagTokenForGeneration: ['rag.question_encoder.question_encoder.bert_model.pooler.dense.weight', 'rag.question_encoder.question_encoder.bert_model.pooler.dense.bias']\n",
      "- This IS expected if you are initializing RagTokenForGeneration from the checkpoint of a model trained on another task or with another architecture (e.g. initializing a BertForSequenceClassification model from a BertForPreTraining model).\n",
      "- This IS NOT expected if you are initializing RagTokenForGeneration from the checkpoint of a model that you expect to be exactly identical (initializing a BertForSequenceClassification model from a BertForSequenceClassification model).\n",
      "Some weights of RagTokenForGeneration were not initialized from the model checkpoint at facebook/rag-token-nq and are newly initialized: ['rag.generator.lm_head.weight']\n",
      "You should probably TRAIN this model on a down-stream task to be able to use it for predictions and inference.\n",
      "The tokenizer class you load from this checkpoint is not the same type as the class this function is called from. It may result in unexpected tokenization. \n",
      "The tokenizer class you load from this checkpoint is 'RagTokenizer'. \n",
      "The class this function is called from is 'DPRQuestionEncoderTokenizer'.\n",
      "The tokenizer class you load from this checkpoint is not the same type as the class this function is called from. It may result in unexpected tokenization. \n",
      "The tokenizer class you load from this checkpoint is 'RagTokenizer'. \n",
      "The class this function is called from is 'DPRQuestionEncoderTokenizerFast'.\n",
      "The tokenizer class you load from this checkpoint is not the same type as the class this function is called from. It may result in unexpected tokenization. \n",
      "The tokenizer class you load from this checkpoint is 'RagTokenizer'. \n",
      "The class this function is called from is 'BartTokenizer'.\n",
      "The tokenizer class you load from this checkpoint is not the same type as the class this function is called from. It may result in unexpected tokenization. \n",
      "The tokenizer class you load from this checkpoint is 'RagTokenizer'. \n",
      "The class this function is called from is 'BartTokenizerFast'.\n"
     ]
    }
   ],
   "source": [
    "from RAG_QA import *\n",
    "from transformers import RagTokenizer, RagRetriever, RagTokenForGeneration, DPRContextEncoder, \\\n",
    "    DPRContextEncoderTokenizer\n",
    "\n",
    "def load_retriever_and_generator_(dataset, load_model=False):\n",
    "    rag_model_name = \"facebook/rag-token-nq\"\n",
    "\n",
    "    if load_model:\n",
    "        retriever = RagRetriever.from_pretrained(\"pat-jj/nyt10-finetuned-rag-retriever\", index_name=\"exact\")\n",
    "        model = RagTokenForGeneration.from_pretrained(\"pat-jj/nyt10-finetuned-rag-generator\", index_name=\"exact\")\n",
    "    else:\n",
    "        retriever = RagRetriever.from_pretrained(\n",
    "            rag_model_name, index_name=\"custom\", indexed_dataset=dataset\n",
    "        )\n",
    "        # initialize with RagRetriever to do everything in one forward call\n",
    "        model = RagTokenForGeneration.from_pretrained(rag_model_name, retriever=retriever).to(device)\n",
    "\n",
    "        # try:\n",
    "        #     retriever.push_to_hub(\"pat-jj/nyt10-finetuned-rag-retriever\")\n",
    "        #     print(\"Successfully push the retriever to the model hub!\")\n",
    "        #     model.push_to_hub(\"pat-jj/nyt10-finetuned-rag-generator\")\n",
    "        #     print(\"Successfully push the generator to the model hub!\")\n",
    "        # except:\n",
    "        #     print(\"fail to push the retriever/generator to model hub\")\n",
    "\n",
    "    tokenizer = RagTokenizer.from_pretrained(rag_model_name)\n",
    "\n",
    "    return model, tokenizer, retriever\n",
    "\n",
    "model, tokenizer, retriever = load_retriever_and_generator_(dataset)"
   ],
   "metadata": {
    "collapsed": false
   }
  },
  {
   "cell_type": "code",
   "execution_count": 46,
   "outputs": [
    {
     "name": "stderr",
     "output_type": "stream",
     "text": [
      "/home/pj20/miniconda3/envs/kgc/lib/python3.8/site-packages/transformers/generation_utils.py:2169: UserWarning: `max_length` is deprecated in this function, use `stopping_criteria=StoppingCriteriaList(MaxLengthCriteria(max_length=max_length))` instead.\n",
      "  warnings.warn(\n"
     ]
    },
    {
     "name": "stdout",
     "output_type": "stream",
     "text": [
      "{'answers': [' eight years ago', ' eight years old', ' 2008', ' 8 years ago', ' eight years ago.'], 'titles': ['/business/company/place_founded', '/location/location/contains', '/location/location/contains', '/business/company/founders', '/business/company_shareholder/major_shareholder_of']}\n",
      "{'answers': [' provinces in east - central china', ' east - central china', ' province in east - central china', ' province in east-central china', ' provinces in east-central china'], 'titles': ['/location/cn_province/capital', '/location/location/contains', '/location/location/contains', '/location/administrative_division/country', '/location/administrative_division/country']}\n",
      "{'answers': [' bill_gates', ' bill_ gates', ' bill_gate', ' bill_gnates', ' bill_gates'], 'titles': ['/business/company/founders', '/business/person/company', '/business/person/company', '/business/company/founders', '/business/company/founders']}\n",
      "{'answers': [' sir mr. hastings', 'mr. hastings', ' sir robert hastings', ' sir mark hastings', ' sir edward hastings'], 'titles': ['NA', '/business/company/founders', '/business/company/founders', '/business/company/founders', '/business/company/founders']}\n",
      "{'answers': [' british', ' bill gates', ' united states', ' united states citizen', ' british origin'], 'titles': ['NA', 'NA', 'NA', 'NA', 'NA']}\n"
     ]
    }
   ],
   "source": [
    "questions = [\n",
    "    \"When was Google founded?\",\n",
    "    \"Where is Hunan located?\",\n",
    "    \"Who founded Microsoft?\",\n",
    "    \"Who founded Netflix?\",\n",
    "    \"Nationality of Bill Gates?\"\n",
    "]\n",
    "\n",
    "for q in questions:\n",
    "    results = ask_question(model, tokenizer, q)\n",
    "    print(results)"
   ],
   "metadata": {
    "collapsed": false
   }
  },
  {
   "cell_type": "code",
   "execution_count": 47,
   "outputs": [
    {
     "name": "stderr",
     "output_type": "stream",
     "text": [
      "/home/pj20/miniconda3/envs/kgc/lib/python3.8/site-packages/transformers/generation_utils.py:2169: UserWarning: `max_length` is deprecated in this function, use `stopping_criteria=StoppingCriteriaList(MaxLengthCriteria(max_length=max_length))` instead.\n",
      "  warnings.warn(\n"
     ]
    },
    {
     "name": "stdout",
     "output_type": "stream",
     "text": [
      "{'answers': ['', ',', ',', 'pt', ' the'], 'titles': ['/business/person/company', '/business/person/company', '/business/company/founders', '/business/person/company', '/business/person/company']}\n"
     ]
    }
   ],
   "source": [
    "questions = [\n",
    "    \"What is Microsoft?\"\n",
    "]\n",
    "\n",
    "for q in questions:\n",
    "    results = ask_question(model, tokenizer, q)\n",
    "    print(results)"
   ],
   "metadata": {
    "collapsed": false
   }
  },
  {
   "cell_type": "code",
   "execution_count": null,
   "outputs": [],
   "source": [],
   "metadata": {
    "collapsed": false
   }
  }
 ],
 "metadata": {
  "kernelspec": {
   "display_name": "Python 3",
   "language": "python",
   "name": "python3"
  },
  "language_info": {
   "codemirror_mode": {
    "name": "ipython",
    "version": 2
   },
   "file_extension": ".py",
   "mimetype": "text/x-python",
   "name": "python",
   "nbconvert_exporter": "python",
   "pygments_lexer": "ipython2",
   "version": "2.7.6"
  }
 },
 "nbformat": 4,
 "nbformat_minor": 0
}
