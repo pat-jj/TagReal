{
 "cells": [
  {
   "cell_type": "code",
   "execution_count": 2,
   "metadata": {},
   "outputs": [],
   "source": [
    "import json\n",
    "\n",
    "f = open('../TuckER/data/FB60K-NYT10/raw_data/nyt10_train_raw.json')\n",
    "data_corpus = json.load(f)\n",
    "\n",
    "f = open('../TuckER/data/FB60K-NYT10/raw_data/nyt10_test_raw.json')\n",
    "tmp = json.load(f)\n",
    "\n",
    "data_corpus = data_corpus + tmp"
   ]
  },
  {
   "cell_type": "code",
   "execution_count": 3,
   "metadata": {},
   "outputs": [],
   "source": [
    "rel_list = ['/people/person/nationality', '/location/location/contains', '/people/person/place_lived', \n",
    "            '/people/deceased_person/place_of_death', '/people/person/ethnicity', '/people/ethnicity/people',\n",
    "            '/business/person/company', '/people/person/religion', '/location/neighborhood/neighborhood_of',\n",
    "            '/business/company/founders', '/people/person/children', '/location/administrative_division/country',\n",
    "            '/location/country/administrative_divisions', '/business/company/place_founded', '/location/us_county/county_seat']"
   ]
  },
  {
   "cell_type": "code",
   "execution_count": 4,
   "metadata": {},
   "outputs": [],
   "source": [
    "triple_text = {}\n",
    "for item in data_corpus:\n",
    "    if item['relation'] in rel_list:\n",
    "        text = item['sentence'].replace('###END###\\n', '')\n",
    "        triple = item['head']['word'] + '||' + item['relation'] + '||' + item['tail']['word']\n",
    "        if triple in triple_text.keys():\n",
    "            if len(triple_text[triple]) <= 200:\n",
    "                triple_text[triple] = triple_text[triple] + text\n",
    "        else:\n",
    "            if len(text) <= 200:\n",
    "                triple_text[triple] = text\n",
    "\n",
    "out_str = \"\"\n",
    "for triple in triple_text.keys():\n",
    "    line = triple + '####SPLIT####' + triple_text[triple] + '\\n'\n",
    "    out_str += line\n",
    "\n",
    "out_file = open(\"../dataset/FB60K-NYT10/triple2text.txt\", 'w', encoding='utf-8')\n",
    "print(out_str, file=out_file)"
   ]
  },
  {
   "cell_type": "code",
   "execution_count": null,
   "metadata": {},
   "outputs": [],
   "source": []
  }
 ],
 "metadata": {
  "kernelspec": {
   "display_name": "Python 3.8.13 ('kgc')",
   "language": "python",
   "name": "python3"
  },
  "language_info": {
   "codemirror_mode": {
    "name": "ipython",
    "version": 3
   },
   "file_extension": ".py",
   "mimetype": "text/x-python",
   "name": "python",
   "nbconvert_exporter": "python",
   "pygments_lexer": "ipython3",
   "version": "3.8.13"
  },
  "orig_nbformat": 4,
  "vscode": {
   "interpreter": {
    "hash": "3d0509d9aa81f2882b18eeb72d4d23c32cae9029e9b99f63cde94ba86c35ac78"
   }
  }
 },
 "nbformat": 4,
 "nbformat_minor": 2
}
