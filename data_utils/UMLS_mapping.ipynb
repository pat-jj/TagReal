{
 "cells": [
  {
   "cell_type": "code",
   "execution_count": 1,
   "metadata": {},
   "outputs": [],
   "source": [
    "import pickle\n",
    "\n",
    "inp = '../Volumes/MRCONSO.RRF'\n",
    "\n",
    "class UMLS_CUIs:\n",
    "    \n",
    "    cui = {'SNOMEDCT_US':1, 'MSH':2, 'MDR':3, 'RXNORM':4}\n",
    "    \"\"\"\n",
    "    This is the global dictionary of the location in the structure to get\n",
    "    a the structure's CUIs from different databases\n",
    "    \"\"\"\n",
    "    \n",
    "    \n",
    "    def __init__(self):\n",
    "        \"\"\"Initializes the class to create the UMLS dictionary of preferred terms\n",
    "        \"\"\"\n",
    "        self.structure = {}\n",
    "\n",
    "    def process(self, location):\n",
    "        \"\"\"\n",
    "        Processes the file given. This was designed to process MRCONSO.rff\n",
    "        on English terms and only return SNOMED, MESH, MEDDRA, and RXNORM CUIs\n",
    "        \n",
    "        :param location: location of MRCONSO.rff\n",
    "        \"\"\"\n",
    "        with open(location, 'r') as fil:\n",
    "            \n",
    "            for line in fil:\n",
    "                split = line.split('|')\n",
    "                umls_cui, language, kb, term_type, kb_cui, kb_name = self.__getConcepts(split)\n",
    "                self.__addCUI(umls_cui, language, kb, term_type, kb_cui, kb_name)\n",
    "                \n",
    "                \n",
    "    def __getConcepts(self, split):\n",
    "        \"\"\"\n",
    "        Gets the Concepts from MRCONSO.RRF\n",
    "        \n",
    "        Creates a multi-return of:\n",
    "        - UMLS CUI as umls_cui\n",
    "        - Language of the Term as language\n",
    "        - Knowledgebase as kb\n",
    "        - term type (preferred term as PT, synonym as SY etc.) as term_type\n",
    "        - Knowledgebase CUI as kb_cui\n",
    "        - Name of Term as kb_name\n",
    "        \n",
    "        :param split: a list of a line from MRCONSO.rff that was pre-split from a previous method\n",
    "        \"\"\"\n",
    "        umls_cui = split[0].strip()\n",
    "        language = split[1].strip()\n",
    "        kb = split[11].strip()\n",
    "        term_type = split[12].strip()\n",
    "        kb_cui = split[13].strip()\n",
    "        kb_name = split[14].strip()\n",
    "        return umls_cui, language, kb, term_type, kb_cui, kb_name\n",
    "    \n",
    "    def __addCUI(self, umls_cui, language, kb, term_type, kb_cui, kb_name):\n",
    "        \"\"\"\n",
    "        Adds the UMLS CUIs to the UMLS python structure\n",
    "        \n",
    "        The CUIs will be added if and only if the UMLS entity is English\n",
    "        and a preferred term. SNOMED and MESH are assumed to all be active\n",
    "        since I didnt' have any conflicts with many CUIs for them.\n",
    "        \n",
    "        For now, for every different kb CUI, I add it to itself pipe delimited.\n",
    "        So for UMLS CUIs with multiple SNOMED CUIs -> cui1|cui2... etc.\n",
    "        \n",
    "        :param umls_cui: the UMLS CUI\n",
    "        :param language: language of the UMLS entity (ENG etc.)\n",
    "        :param kb: Type of knowledgebase UMLS is pointing to\n",
    "        :param term_type: type of term given (PT etc.)\n",
    "        :param kb_cui: the type of cui from the knowledgebase given\n",
    "        :param kb_name: the string of the term\n",
    "        \"\"\"\n",
    "        self.__initializeEntityIfNotPresent(umls_cui)\n",
    "        \n",
    "        #print term_type\n",
    "        #print language\n",
    "        #print kb_cui\n",
    "        #print ''\n",
    "        #if term_type == 'PT' and language == 'ENG' and kb in self.cui:\n",
    "        if language == 'ENG' and ((kb in ('RXNORM', 'MSH')) or term_type in ('PT', 'MH', 'SCD','MIN')) and kb in self.cui:\n",
    "            #if self.structure[umls_cui][self.cui[kb]] is not None:\n",
    "                #print umls_cui + ' ' + kb + ' '\n",
    "                #print 'old: ' + self.structure[umls_cui][self.cui[kb]]\n",
    "                #print 'new: ' + kb_cui\n",
    "                #self.structure[umls_cui][0] += '|' + kb_name\n",
    "                #self.structure[umls_cui][self.cui[kb]] += '|' + kb_cui\n",
    "                #print ''\n",
    "            #else:\n",
    "                #self.structure[umls_cui][self.cui[kb]] = kb_cui\n",
    "            if self.structure[umls_cui][0] == None:\n",
    "                self.structure[umls_cui][0] = []\n",
    "                self.structure[umls_cui][0].append(kb_name)\n",
    "            else:\n",
    "                self.structure[umls_cui][0].append(kb_name)\n",
    "            if kb_cui not in self.structure[umls_cui][self.cui[kb]]:\n",
    "                self.structure[umls_cui][self.cui[kb]].append(kb_cui)\n",
    "                \n",
    "    def __inStructure(self, umls_cui):\n",
    "        \"\"\"\n",
    "        This will check whether the UMLS CUI is in the structure\n",
    "        \n",
    "        :param umls_cui: the UMLS CUI being fed into the structure\n",
    "        :return: a boolean if the CUI being fed is in the UMLS dic structure\n",
    "        \"\"\"\n",
    "        return (umls_cui in self.structure)\n",
    "    \n",
    "    def __initializeEntityIfNotPresent(self, umls_cui):\n",
    "        \"\"\"\n",
    "        Puts an empty entity into the UMLS dictionary structure if not\n",
    "        present in the structure as the UMLS CUI as a string and \n",
    "        5 tuples (currently) of strings. They will be initialized as None\n",
    "        and added as the file processes MRCONSO.RRF\n",
    "        \n",
    "        It is not expected that this will be full per entity\n",
    "        \n",
    "        Structure -> struc[cui] = (\n",
    "                                    preferred name,\n",
    "                                    SNOMED CUI,\n",
    "                                    MESH CUI,\n",
    "                                    MEDDRA CUI,\n",
    "                                    RXNORM CUI\n",
    "                                  )\n",
    "        :param umls_cui: the key of the UMLS structure\n",
    "        :param kb_name: the preferred UMLS entity's name\n",
    "        \"\"\"\n",
    "        if not (self.__inStructure(umls_cui)):\n",
    "            self.structure[umls_cui] = [None, [], [], [], []]\n",
    "            \n",
    "    def getName(self, umls_cui):\n",
    "        \"\"\"\n",
    "        :param umls_cui: The UMLS CUI being retrieved\n",
    "        :return: The name of the Concept's CUI if present, else None\n",
    "        \"\"\"\n",
    "        if self.__inStructure(umls_cui):\n",
    "            return self.structure[umls_cui][0]\n",
    "        return None\n",
    "        \n",
    "    def getSnomedct_usCui(self, umls_cui):\n",
    "        \"\"\"\n",
    "        :param umls_cui: The UMLS CUI being retrieved\n",
    "        :return: The SNOMEDCT_US CUI if present, else None\n",
    "        \"\"\"\n",
    "        if self.__inStructure(umls_cui):\n",
    "            return self.listToPipe(self.structure[umls_cui][1])\n",
    "            #return self.structure[umls_cui][1]\n",
    "        return None\n",
    "        \n",
    "    def getMeshCui(self, umls_cui):\n",
    "        \"\"\"\n",
    "        :umls_cui: The UMLS CUI being retrieved\n",
    "        :return: The MeSH CUI if present\n",
    "        \"\"\"\n",
    "        if self.__inStructure(umls_cui):\n",
    "            return self.listToPipe(self.structure[umls_cui][2])\n",
    "            #return self.structure[umls_cui][2]\n",
    "        return None\n",
    "        \n",
    "    def getMeddraCui(self, umls_cui):\n",
    "        \"\"\"\n",
    "        :param umls_cui: The UMLS CUI being retrieved\n",
    "        :return: The MedDRA CUI if present\n",
    "        \"\"\"\n",
    "        if self.__inStructure(umls_cui):\n",
    "            return self.listToPipe(self.structure[umls_cui][3])\n",
    "            #return self.structure[umls_cui][3]\n",
    "        return None\n",
    "        \n",
    "    def getRxnormCui(self, umls_cui):\n",
    "        \"\"\"\n",
    "        :param umls_cui: The UMLS CUI being retrieved\n",
    "        :return: the RxNorm CUI if present\n",
    "        \"\"\"\n",
    "        if self.__inStructure(umls_cui):\n",
    "            return self.listToPipe(self.structure[umls_cui][4])\n",
    "            #return self.structure[umls_cui][4]\n",
    "        return None\n",
    "\n",
    "    def listToPipe(self, lis):\n",
    "        start = True\n",
    "        string = None\n",
    "        for li in lis:\n",
    "            if start:\n",
    "                start = False\n",
    "                string = li\n",
    "            else:\n",
    "                string += '|' + li\n",
    "                \n",
    "        return string"
   ]
  },
  {
   "cell_type": "code",
   "execution_count": 2,
   "metadata": {},
   "outputs": [],
   "source": [
    "umls_cuis = UMLS_CUIs()\n",
    "umls_cuis.process(inp)"
   ]
  },
  {
   "cell_type": "code",
   "execution_count": 23,
   "metadata": {},
   "outputs": [],
   "source": [
    "def select_term(List):\n",
    "    count = {}\n",
    "    for term in List:\n",
    "        c = List.count(term)\n",
    "        if c not in count.keys():\n",
    "            count[c] = set()\n",
    "            count[c].add(term)\n",
    "        else:\n",
    "            count[c].add(term)\n",
    "    \n",
    "    most_freq_terms = count[max(count.keys())]\n",
    "\n",
    "    if len(most_freq_terms) == 1:\n",
    "        return most_freq_terms.pop().replace(' ', '_')\n",
    "\n",
    "    length = 0\n",
    "    res = None\n",
    "    for term in most_freq_terms:\n",
    "        term = term.replace(' ', '_')\n",
    "        if length == 0:\n",
    "            length = len(term)\n",
    "            res = term\n",
    "        else:\n",
    "            if len(term) < length:\n",
    "                length = len(term)\n",
    "                res = term\n",
    "    \n",
    "    return res"
   ]
  },
  {
   "cell_type": "code",
   "execution_count": 24,
   "metadata": {},
   "outputs": [
    {
     "name": "stdout",
     "output_type": "stream",
     "text": [
      "['Therapeutic procedure', 'Therapeutic procedure', 'Therapeutics', 'Therapy', 'Therapy', 'Therapies', 'Treatment', 'Treatments', 'Therapeutic', 'THER']\n"
     ]
    },
    {
     "data": {
      "text/plain": [
       "'Therapy'"
      ]
     },
     "execution_count": 24,
     "metadata": {},
     "output_type": "execute_result"
    }
   ],
   "source": [
    "testCUI = 'C0087111'\n",
    "print(umls_cuis.getName(testCUI))\n",
    "select_term(umls_cuis.getName(testCUI))"
   ]
  },
  {
   "cell_type": "code",
   "execution_count": 25,
   "metadata": {},
   "outputs": [],
   "source": [
    "rel_list = [\n",
    "    'gene_associated_with_disease',\n",
    "    'disease_has_associated_gene',\n",
    "    'gene_mapped_to_disease',\n",
    "    'disease_mapped_to_gene',\n",
    "    'may_be_treated_by',\n",
    "    'may_treat',\n",
    "    'may_be_prevented_by',\n",
    "    'may_prevent',\n",
    "]"
   ]
  },
  {
   "cell_type": "code",
   "execution_count": 14,
   "metadata": {},
   "outputs": [
    {
     "name": "stderr",
     "output_type": "stream",
     "text": [
      "100%|██████████| 5645558/5645558 [00:03<00:00, 1800221.64it/s]\n",
      "100%|██████████| 2048286/2048286 [00:01<00:00, 1424847.58it/s]\n"
     ]
    }
   ],
   "source": [
    "import json\n",
    "from tqdm import tqdm\n",
    "\n",
    "entity_set = set()\n",
    "\n",
    "f = open('../TuckER/data/UMLS-PubMed/raw_data/train.json')\n",
    "dc = json.load(f)\n",
    "\n",
    "f = open('../TuckER/data/UMLS-PubMed/raw_data/test_5sent.json')\n",
    "tmp = json.load(f)\n",
    "\n",
    "dc = dc + tmp\n",
    "\n",
    "data_corpus = []\n",
    "\n",
    "for item in tqdm(dc):\n",
    "    head, tail, relation = item['head']['id'], item['tail']['id'], item['relation']\n",
    "    if relation in rel_list:\n",
    "        if head not in entity_set:\n",
    "            entity_set.add(head)\n",
    "        if tail not in entity_set:\n",
    "            entity_set.add(tail)\n",
    "\n",
    "\n",
    "f_train = open('../TuckER/data/UMLS-PubMed/raw_data/train.txt')\n",
    "f_test = open('../TuckER/data/UMLS-PubMed/raw_data/test.txt')\n",
    "f_dev = open('../TuckER/data/UMLS-PubMed/raw_data/dev.txt')\n",
    "\n",
    "\n",
    "\n",
    "data_kg_raw = f_train.readlines() + f_test.readlines() + f_dev.readlines()\n",
    "data_kg = []\n",
    "for line in tqdm(data_kg_raw):\n",
    "    items = line[:-1].split('\\t')\n",
    "    head, relation, tail = items[0], items[1], items[2]\n",
    "    if relation in rel_list:\n",
    "        if head not in entity_set:\n",
    "            entity_set.add(head)\n",
    "        if tail not in entity_set:\n",
    "            entity_set.add(tail)\n",
    "\n",
    "\n"
   ]
  },
  {
   "cell_type": "code",
   "execution_count": 26,
   "metadata": {},
   "outputs": [
    {
     "name": "stderr",
     "output_type": "stream",
     "text": [
      "100%|██████████| 9737/9737 [00:00<00:00, 210377.42it/s]\n"
     ]
    }
   ],
   "source": [
    "mapping = \"\"\n",
    "\n",
    "for entity in tqdm(entity_set):\n",
    "    # print(entity)\n",
    "    terms = umls_cuis.getName(entity)\n",
    "    if terms != None:\n",
    "        # print(english_term)\n",
    "        english_term = select_term(terms)\n",
    "        tmp = entity + '\\t' + english_term + '\\n'\n",
    "    else:\n",
    "        tmp = entity + '\\t' + entity + '\\n'\n",
    "    mapping += tmp\n",
    "\n",
    "map_ = open(\"./entity2label.txt\", 'w', encoding='utf-8')\n",
    "print(mapping, file=map_)"
   ]
  },
  {
   "cell_type": "code",
   "execution_count": 20,
   "metadata": {},
   "outputs": [
    {
     "data": {
      "text/plain": [
       "['Fungemia', 'Fungemia', 'Fungaemia']"
      ]
     },
     "execution_count": 20,
     "metadata": {},
     "output_type": "execute_result"
    }
   ],
   "source": [
    "umls_cuis.getName('C0085082')"
   ]
  },
  {
   "cell_type": "code",
   "execution_count": 48,
   "metadata": {},
   "outputs": [
    {
     "data": {
      "text/plain": [
       "array([3, 5, 4, 2, 1, 0])"
      ]
     },
     "execution_count": 48,
     "metadata": {},
     "output_type": "execute_result"
    }
   ],
   "source": [
    "np.argsort(doc_scores)[::-1]"
   ]
  },
  {
   "cell_type": "code",
   "execution_count": 49,
   "metadata": {},
   "outputs": [
    {
     "data": {
      "text/plain": [
       "array([0.        , 0.        , 0.        , 1.74903479, 0.        ,\n",
       "       0.        ])"
      ]
     },
     "execution_count": 49,
     "metadata": {},
     "output_type": "execute_result"
    }
   ],
   "source": [
    "doc_scores"
   ]
  },
  {
   "cell_type": "code",
   "execution_count": 51,
   "metadata": {},
   "outputs": [
    {
     "data": {
      "text/plain": [
       "[['Hello', 'there', 'good', 'man!'],\n",
       " ['It', 'is', 'quite', 'windy', 'in', 'London'],\n",
       " ['London', 'is', 'beautiful', 'city', 'which', 'is', 'windy', 'often'],\n",
       " ['windy', 'london'],\n",
       " ['London', 'is', 'sunny'],\n",
       " ['How', 'is', 'the', 'weather', 'today?']]"
      ]
     },
     "execution_count": 51,
     "metadata": {},
     "output_type": "execute_result"
    }
   ],
   "source": [
    "tokenized_corpus"
   ]
  },
  {
   "cell_type": "code",
   "execution_count": null,
   "metadata": {},
   "outputs": [],
   "source": []
  }
 ],
 "metadata": {
  "kernelspec": {
   "display_name": "Python 3.8.13 ('kgc')",
   "language": "python",
   "name": "python3"
  },
  "language_info": {
   "codemirror_mode": {
    "name": "ipython",
    "version": 3
   },
   "file_extension": ".py",
   "mimetype": "text/x-python",
   "name": "python",
   "nbconvert_exporter": "python",
   "pygments_lexer": "ipython3",
   "version": "3.8.13"
  },
  "orig_nbformat": 4,
  "vscode": {
   "interpreter": {
    "hash": "3d0509d9aa81f2882b18eeb72d4d23c32cae9029e9b99f63cde94ba86c35ac78"
   }
  }
 },
 "nbformat": 4,
 "nbformat_minor": 2
}
