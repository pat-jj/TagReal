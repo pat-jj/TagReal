{
 "cells": [
  {
   "cell_type": "code",
   "execution_count": null,
   "metadata": {},
   "outputs": [],
   "source": [
    "import pandas as pd\n",
    "\n",
    "train = pd.read_csv('./train.txt', sep='\\t', names=['e1', 'r', 'e2'])\n",
    "sampled_train = train.sample(frac=0.5, random_state=83)\n"
   ]
  },
  {
   "cell_type": "code",
   "execution_count": 11,
   "metadata": {},
   "outputs": [
    {
     "name": "stderr",
     "output_type": "stream",
     "text": [
      "100%|██████████| 134140/134140 [00:00<00:00, 1018788.55it/s]\n"
     ]
    }
   ],
   "source": [
    "sampled_train.values[0][0]\n",
    "from tqdm import tqdm\n",
    "\n",
    "data_train = \"\"\n",
    "for triple_ in tqdm(sampled_train.values):\n",
    "    triple = triple_[0] + '\\t' + triple_[1] + '\\t' + triple_[2]\n",
    "    data_train += triple + '\\n'\n",
    "\n",
    "train = open(\"../train.txt\", 'w', encoding='utf-8')\n",
    "print(data_train, file=train)\n",
    "    "
   ]
  },
  {
   "cell_type": "code",
   "execution_count": null,
   "metadata": {},
   "outputs": [],
   "source": []
  }
 ],
 "metadata": {
  "kernelspec": {
   "display_name": "Python 3.8.13 ('kgc')",
   "language": "python",
   "name": "python3"
  },
  "language_info": {
   "codemirror_mode": {
    "name": "ipython",
    "version": 3
   },
   "file_extension": ".py",
   "mimetype": "text/x-python",
   "name": "python",
   "nbconvert_exporter": "python",
   "pygments_lexer": "ipython3",
   "version": "3.8.13"
  },
  "orig_nbformat": 4,
  "vscode": {
   "interpreter": {
    "hash": "3d0509d9aa81f2882b18eeb72d4d23c32cae9029e9b99f63cde94ba86c35ac78"
   }
  }
 },
 "nbformat": 4,
 "nbformat_minor": 2
}
