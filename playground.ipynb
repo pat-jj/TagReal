{
 "cells": [
  {
   "cell_type": "markdown",
   "source": [
    "def load_data(self, data_dir, data_type=\"train\", reverse=False):\n",
    "    with open(\"%s%s.txt\" % (data_dir, data_type), \"r\") as f:\n",
    "        data = f.read().strip().split(\"\\n\")\n",
    "        data = [i.split('\\t') for i in data]\n",
    "        if reverse:\n",
    "            data += [[i[2], i[1]+\"_reverse\", i[0]] for i in data]\n",
    "    return data"
   ],
   "metadata": {
    "collapsed": false
   }
  },
  {
   "cell_type": "code",
   "execution_count": null,
   "id": "073cef03",
   "metadata": {},
   "outputs": [],
   "source": [
    "! ls"
   ]
  },
  {
   "cell_type": "code",
   "execution_count": null,
   "id": "85ddcf44",
   "metadata": {},
   "outputs": [],
   "source": [
    "! ls dataset/FB15K-237-N"
   ]
  },
  {
   "cell_type": "code",
   "execution_count": null,
   "id": "44739827",
   "metadata": {},
   "outputs": [],
   "source": [
    "! sh TuckER/run.sh"
   ]
  },
  {
   "cell_type": "code",
   "execution_count": null,
   "id": "af2c3a19",
   "metadata": {},
   "outputs": [],
   "source": [
    "valid_relation_set = set()"
   ]
  },
  {
   "cell_type": "code",
   "execution_count": null,
   "id": "278f5cd5",
   "metadata": {},
   "outputs": [],
   "source": [
    "rel_list = ['/people/person/nationality', '/location/location/contains', '/people/person/place_lived', \n",
    "            '/people/deceased_person/place_of_death', '/people/person/ethnicity', '/people/ethnicity/people',\n",
    "            '/business/person/company', '/people/person/religion', '/location/neighborhood/neighborhood_of',\n",
    "            '/business/company/founders', '/people/person/children', '/location/administrative_division/country',\n",
    "            '/location/country/administrative_divisions', '/business/company/place_founded', '/location/us_county/county_seat']\n",
    "\n",
    "for i in range(len(rel_list)):\n",
    "    valid_relation_set.add(rel_list[i])\n"
   ]
  },
  {
   "cell_type": "code",
   "execution_count": null,
   "id": "cba5bd01",
   "metadata": {},
   "outputs": [],
   "source": [
    "valid_relation_set"
   ]
  },
  {
   "cell_type": "code",
   "execution_count": null,
   "id": "814052ef",
   "metadata": {},
   "outputs": [],
   "source": [
    "'people/person/religion' not in valid_relation_set"
   ]
  },
  {
   "cell_type": "code",
   "execution_count": null,
   "id": "3896974e",
   "metadata": {},
   "outputs": [],
   "source": [
    "import os\n",
    "train_data = open(\"./TuckER/data/nyt10/nyt10_train.txt\", \"r\")"
   ]
  },
  {
   "cell_type": "code",
   "execution_count": null,
   "id": "303c9132",
   "metadata": {},
   "outputs": [],
   "source": [
    "lines = train_data.readlines()"
   ]
  },
  {
   "cell_type": "code",
   "execution_count": null,
   "id": "e49d8fb2",
   "metadata": {},
   "outputs": [],
   "source": [
    "len(lines)"
   ]
  },
  {
   "cell_type": "code",
   "execution_count": null,
   "id": "922b9d71",
   "metadata": {},
   "outputs": [],
   "source": [
    "lines[522610]"
   ]
  },
  {
   "cell_type": "code",
   "execution_count": null,
   "id": "81a89ec4",
   "metadata": {},
   "outputs": [],
   "source": [
    "def convert_data(line):\n",
    "\n",
    "    relation_left = '''\"relation\": \"'''\n",
    "    relation_right = '''\", \"h\":'''\n",
    "    relation_left_idx = line.find(relation_left)\n",
    "    relation_right_idx = line.find(relation_right)\n",
    "\n",
    "    head_left = '''\"h\": {\"id\":'''\n",
    "    head_right = '''\", \"name\":'''\n",
    "    head_name_right = '''\", \"pos\":'''\n",
    "    head_left_idx = line.find(head_left) \n",
    "    head_right_idx = line.find(head_right)\n",
    "    head_name_right_idx = line.find(head_name_right)\n",
    "\n",
    "    tail_left = '''\"t\": {\"id\":'''\n",
    "    tail_right = '''\", \"name\":'''\n",
    "    tail_name_right = '''\", \"pos\":'''\n",
    "    tail_left_idx = line.find(tail_left)\n",
    "    tail_right_idx = line.find(tail_right, tail_left_idx)\n",
    "    tail_name_right_idx = line.find(tail_name_right, tail_right_idx)\n",
    "    \n",
    "    \n",
    "    head = line[head_left_idx+13:head_right_idx]\n",
    "    head_name = line[head_right_idx+12:head_name_right_idx]\n",
    "    relation = line[relation_left_idx+13:relation_right_idx]\n",
    "    tail = line[tail_left_idx+13:tail_right_idx]\n",
    "    tail_name = line[tail_right_idx+12:tail_name_right_idx]\n",
    "    \n",
    "    head = \"/\" + head.replace(\".\", \"/\")\n",
    "    tail = \"/\" + tail.replace(\".\", \"/\")\n",
    "    \n",
    "    return head, relation, tail, head_name, tail_name\n"
   ]
  },
  {
   "cell_type": "code",
   "execution_count": null,
   "id": "57a4de68",
   "metadata": {},
   "outputs": [],
   "source": [
    "convert_data(lines[13434])"
   ]
  },
  {
   "cell_type": "code",
   "execution_count": null,
   "id": "60cea69a",
   "metadata": {},
   "outputs": [],
   "source": []
  },
  {
   "cell_type": "code",
   "execution_count": null,
   "id": "4966c98c",
   "metadata": {},
   "outputs": [],
   "source": [
    "data = \"\"\n",
    "test_data = \"\"\n",
    "val_data = \"\"\n",
    "for i in range(len(lines)):\n",
    "    head, relation, tail, head_name, tail_name = convert_data(lines[i])\n",
    "#     print(relation)\n",
    "    if relation not in valid_relation_set:\n",
    "        continue\n",
    "    tmp = head + '\\t' + relation + '\\t' + tail + '\\n'\n",
    "    if i % 13 == 0:\n",
    "        test_data += tmp\n",
    "    elif i % 13 == 1:\n",
    "        val_data += tmp\n",
    "    else:\n",
    "        data += tmp"
   ]
  },
  {
   "cell_type": "code",
   "execution_count": null,
   "id": "2f9b233f",
   "metadata": {},
   "outputs": [],
   "source": [
    "len(lines) * 0.85"
   ]
  },
  {
   "cell_type": "code",
   "execution_count": null,
   "id": "e5b80eb4",
   "metadata": {},
   "outputs": [],
   "source": [
    "txt_file = open(\"./TuckER/data/nyt10/train.txt\", 'w', encoding='utf-8')\n",
    "print(data, file=txt_file)"
   ]
  },
  {
   "cell_type": "code",
   "execution_count": null,
   "id": "344281d7",
   "metadata": {},
   "outputs": [],
   "source": [
    "train_data_ = open(\"./TuckER/data/nyt10/nyt10_train.txt\", \"r\")\n",
    "test_data_ = open(\"./TuckER/data/nyt10/nyt10_test.txt\", \"r\")\n",
    "\n",
    "train_lines = train_data_.readlines()\n",
    "test_lines = test_data_.readlines()"
   ]
  },
  {
   "cell_type": "code",
   "execution_count": null,
   "id": "f24b47f9",
   "metadata": {},
   "outputs": [],
   "source": [
    "from tqdm import tqdm\n",
    "def entity_to_label(entity2label, lines):\n",
    "    for i in tqdm(range(len(lines))):\n",
    "        head, relation, tail, head_name, tail_name = convert_data(lines[i])\n",
    "        if relation not in valid_relation_set:\n",
    "            continue\n",
    "        tmp1 = head + '\\t' + head_name + '\\n'\n",
    "        tmp2 = tail + '\\t' + tail_name + '\\n'\n",
    "        if tmp1 not in entity2label:\n",
    "            entity2label.append(tmp1)\n",
    "        if tmp2 not in entity2label:\n",
    "            entity2label.append(tmp2)"
   ]
  },
  {
   "cell_type": "code",
   "execution_count": null,
   "id": "599ff466",
   "metadata": {},
   "outputs": [],
   "source": [
    "test_lines"
   ]
  },
  {
   "cell_type": "code",
   "execution_count": null,
   "id": "371551fc",
   "metadata": {},
   "outputs": [],
   "source": [
    "# make entity2label\n",
    "entity2label = []\n",
    "\n",
    "entity_to_label(entity2label, train_lines)\n",
    "entity_to_label(entity2label, test_lines)\n",
    "\n",
    "entity2label"
   ]
  },
  {
   "cell_type": "code",
   "execution_count": null,
   "id": "332af296",
   "metadata": {},
   "outputs": [],
   "source": [
    "for i in range(len(test_lines)):\n",
    "    head, relation, tail, head_name, tail_name = convert_data(test_lines[i])\n",
    "    if relation not in valid_relation_set:\n",
    "        continue\n",
    "    tmp1 = head + '\\t' + head_name + '\\n'\n",
    "    tmp2 = tail + '\\t' + tail_name + '\\n'\n",
    "    if tmp1 not in entity2label:\n",
    "        entity2label.append(tmp1)\n",
    "    if tmp2 not in entity2label:\n",
    "        entity2label.append(tmp2)"
   ]
  },
  {
   "cell_type": "code",
   "execution_count": null,
   "id": "a4c29981",
   "metadata": {},
   "outputs": [],
   "source": [
    "e2l_data = \"\"\n",
    "for i in range(len(entity2label)):\n",
    "    e2l_data += entity2label[i]\n",
    "\n",
    "\n",
    "e2l_file = open(\"./dataset/nyt10/entity2label.txt\", 'w', encoding='utf-8')\n",
    "print(e2l_data, file=e2l_file)"
   ]
  },
  {
   "cell_type": "code",
   "execution_count": null,
   "id": "7be09b3c",
   "metadata": {},
   "outputs": [],
   "source": [
    "for i in range(len(test_lines)):\n",
    "    head, relation, tail, head_name, tail_name = convert_data(test_lines[i])\n",
    "    if relation not in valid_relation_set:\n",
    "        continue\n",
    "    tmp = head + '\\t' + relation + '\\t' + tail + '\\n'\n",
    "    if i % 2 == 0:\n",
    "        test_data += tmp\n",
    "    else:\n",
    "        val_data += tmp"
   ]
  },
  {
   "cell_type": "code",
   "execution_count": null,
   "id": "39a02d32",
   "metadata": {},
   "outputs": [],
   "source": [
    "test_txt_file = open(\"./TuckER/data/nyt10/test.txt\", 'w', encoding='utf-8')\n",
    "print(test_data, file=test_txt_file)\n",
    "val_txt_file = open(\"./TuckER/data/nyt10/valid.txt\", 'w', encoding='utf-8')\n",
    "print(val_data, file=val_txt_file)"
   ]
  },
  {
   "cell_type": "code",
   "execution_count": null,
   "id": "1252a313",
   "metadata": {},
   "outputs": [],
   "source": [
    "test_data_ = open(\"./dataset/nyt10/test.txt\", \"r\")\n",
    "valid_data_ = open(\"./dataset/nyt10/valid.txt\", \"r\")\n",
    "\n",
    "test_lines = test_data_.readlines()\n",
    "valid_lines = valid_data_.readlines()"
   ]
  },
  {
   "cell_type": "code",
   "execution_count": null,
   "id": "d3f9cf6d",
   "metadata": {},
   "outputs": [],
   "source": [
    "test_lines[0].split('\\t')"
   ]
  },
  {
   "cell_type": "code",
   "execution_count": null,
   "id": "8b81a69a",
   "metadata": {},
   "outputs": [],
   "source": [
    "# make test/valid negative data\n",
    "import random\n",
    "head_rel = []\n",
    "tails = []\n",
    "test_neg = []\n",
    "for i in range(len(test_lines)):\n",
    "\n",
    "    tmp1 = test_lines[i].split('\\t')[0] + '\\t' + test_lines[i].split('\\t')[1] + '\\t'\n",
    "    tmp2 = test_lines[i].split('\\t')[2]\n",
    "    head_rel.append(tmp1)\n",
    "    tails.append(tmp2)\n",
    "    \n",
    "for i in range(len(head_rel)):\n",
    "    random_tail = random.choice(tails)\n",
    "    tmp = head_rel[i] + random_tail\n",
    "    tails.remove(random_tail)\n",
    "    test_neg.append(tmp)\n",
    "\n",
    "test_neg_data = \"\"\n",
    "for i in range(len(test_neg)):\n",
    "    test_neg_data += test_neg[i]\n",
    "test_neg_file = open(\"./dataset/nyt10/test_neg.txt\", 'w', encoding='utf-8')\n",
    "print(test_neg_data, file=test_neg_file)"
   ]
  },
  {
   "cell_type": "code",
   "execution_count": null,
   "id": "0f81f2b4",
   "metadata": {},
   "outputs": [],
   "source": [
    "# make test/valid negative data\n",
    "import random\n",
    "head_rel = []\n",
    "tails = []\n",
    "valid_neg = []\n",
    "for i in range(len(valid_lines)):\n",
    "\n",
    "    tmp1 = valid_lines[i].split('\\t')[0] + '\\t' + valid_lines[i].split('\\t')[1] + '\\t'\n",
    "    tmp2 = valid_lines[i].split('\\t')[2]\n",
    "    head_rel.append(tmp1)\n",
    "    tails.append(tmp2)\n",
    "    \n",
    "for i in range(len(head_rel)):\n",
    "    random_tail = random.choice(tails)\n",
    "    tmp = head_rel[i] + random_tail\n",
    "    tails.remove(random_tail)\n",
    "    valid_neg.append(tmp)\n",
    "\n",
    "valid_neg_data = \"\"\n",
    "for i in range(len(valid_neg)):\n",
    "    valid_neg_data += valid_neg[i]\n",
    "valid_neg_file = open(\"./dataset/nyt10/valid_neg.txt\", 'w', encoding='utf-8')\n",
    "print(valid_neg_data, file=valid_neg_file)"
   ]
  },
  {
   "cell_type": "code",
   "execution_count": null,
   "id": "057d6627",
   "metadata": {},
   "outputs": [],
   "source": [
    "test_neg_data = \"\"\n",
    "valid_neg_data = \"\"\n",
    "for i in range(len(test_neg)):\n",
    "    test_neg_data += test_neg[i]\n",
    "for i in range(len(valid_neg)):\n",
    "    valid_neg_data += valid_neg[i]\n",
    "\n",
    "test_neg_file = open(\"./dataset/nyt10/test_neg.txt\", 'w', encoding='utf-8')\n",
    "print(test_neg_data, file=test_neg_file)\n",
    "\n",
    "valid_neg_file = open(\"./dataset/nyt10/valid_neg.txt\", 'w', encoding='utf-8')\n",
    "print(valid_neg_data, file=valid_neg_file)"
   ]
  },
  {
   "cell_type": "code",
   "execution_count": null,
   "id": "50277723",
   "metadata": {},
   "outputs": [],
   "source": [
    "import torch\n",
    "torch.cuda.device_count()"
   ]
  },
  {
   "cell_type": "code",
   "execution_count": null,
   "id": "369e1160",
   "metadata": {},
   "outputs": [],
   "source": [
    "import torch\n",
    "import sys\n",
    "print('__Python VERSION:', sys.version)\n",
    "print('__pyTorch VERSION:', torch.__version__)\n",
    "print('__CUDA VERSION')\n",
    "from subprocess import call\n",
    "# call([\"nvcc\", \"--version\"]) does not work\n",
    "! nvcc --version\n",
    "print('__CUDNN VERSION:', torch.backends.cudnn.version())\n",
    "print('__Number CUDA Devices:', torch.cuda.device_count())\n",
    "print('__Devices')\n",
    "call([\"nvidia-smi\", \"--format=csv\", \"--query-gpu=index,name,driver_version,memory.total,memory.used,memory.free\"])\n",
    "print('Active CUDA Device: GPU', torch.cuda.current_device())\n",
    "\n",
    "print ('Available devices ', torch.cuda.device_count())\n",
    "print ('Current cuda device ', torch.cuda.current_device())"
   ]
  },
  {
   "cell_type": "code",
   "execution_count": null,
   "id": "e6207a84",
   "metadata": {},
   "outputs": [],
   "source": [
    "! sh nyt_10.sh"
   ]
  },
  {
   "cell_type": "code",
   "execution_count": null,
   "id": "fd31f418",
   "metadata": {},
   "outputs": [],
   "source": [
    "!nvidia-smi"
   ]
  },
  {
   "cell_type": "code",
   "execution_count": null,
   "id": "6f6fa8d5",
   "metadata": {},
   "outputs": [],
   "source": []
  }
 ],
 "metadata": {
  "kernelspec": {
   "display_name": "Python 3 (ipykernel)",
   "language": "python",
   "name": "python3"
  },
  "language_info": {
   "codemirror_mode": {
    "name": "ipython",
    "version": 3
   },
   "file_extension": ".py",
   "mimetype": "text/x-python",
   "name": "python",
   "nbconvert_exporter": "python",
   "pygments_lexer": "ipython3",
   "version": "3.8.13"
  }
 },
 "nbformat": 4,
 "nbformat_minor": 5
}
