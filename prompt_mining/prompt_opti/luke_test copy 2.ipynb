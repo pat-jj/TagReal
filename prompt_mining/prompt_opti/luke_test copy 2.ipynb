{
 "cells": [
  {
   "cell_type": "code",
   "execution_count": 54,
   "metadata": {},
   "outputs": [
    {
     "name": "stderr",
     "output_type": "stream",
     "text": [
      "Some weights of the model checkpoint at bert-base-uncased were not used when initializing BertForMaskedLM: ['cls.seq_relationship.weight', 'cls.seq_relationship.bias']\n",
      "- This IS expected if you are initializing BertForMaskedLM from the checkpoint of a model trained on another task or with another architecture (e.g. initializing a BertForSequenceClassification model from a BertForPreTraining model).\n",
      "- This IS NOT expected if you are initializing BertForMaskedLM from the checkpoint of a model that you expect to be exactly identical (initializing a BertForSequenceClassification model from a BertForSequenceClassification model).\n"
     ]
    }
   ],
   "source": [
    "from transformers import AutoTokenizer, AutoModelForMaskedLM, BertTokenizer, BertForMaskedLM\n",
    "import torch\n",
    "from tqdm import tqdm\n",
    "\n",
    "# tokenizer = AutoTokenizer.from_pretrained(\"studio-ousia/luke-base\")\n",
    "\n",
    "# model = AutoModelForMaskedLM.from_pretrained(\"studio-ousia/luke-base\")\n",
    "\n",
    "tokenizer = BertTokenizer.from_pretrained(\"bert-base-uncased\")\n",
    "model = BertForMaskedLM.from_pretrained(\"bert-base-uncased\")\n",
    "\n",
    "def run(relation, template):\n",
    "    lines = open('../../dataset/FB60K-NYT10-100/test.txt')\n",
    "    triples = []\n",
    "\n",
    "    for line in lines:\n",
    "        h, r, t = line.split('\\t')\n",
    "        t = t[:-1]\n",
    "        if r == relation:\n",
    "            triples.append((h,r,t))\n",
    "\n",
    "    loss = 0\n",
    "    cnt = 0\n",
    "    for triple in tqdm(triples):\n",
    "        text_masked = convert_from_triple_to_sentence(triple=triple, template=template, mask=True)\n",
    "        inputs = tokenizer(text_masked, return_tensors=\"pt\")\n",
    "\n",
    "        with torch.no_grad():\n",
    "            logits = model(**inputs).logits\n",
    "\n",
    "        mask_token_index = (inputs.input_ids == tokenizer.mask_token_id)[0].nonzero(as_tuple=True)[0]\n",
    "\n",
    "        predicted_token_id = logits[0, mask_token_index].argmax(axis=-1)\n",
    "        # print(triple)\n",
    "\n",
    "        text_label = convert_from_triple_to_sentence(triple=triple, template=template)\n",
    "        # print(text_masked)\n",
    "        # print(text_label)\n",
    "        labels = tokenizer(text_label, return_tensors=\"pt\")[\"input_ids\"]\n",
    "        try:\n",
    "            labels = torch.where(inputs.input_ids == tokenizer.mask_token_id, labels, -100)\n",
    "        except:\n",
    "            continue\n",
    "\n",
    "\n",
    "        outputs = model(**inputs, labels=labels)\n",
    "        loss += outputs.loss.item()\n",
    "        cnt += 1\n",
    "    \n",
    "    return loss / cnt\n",
    "\n"
   ]
  },
  {
   "cell_type": "code",
   "execution_count": null,
   "metadata": {},
   "outputs": [],
   "source": [
    "relation = '/people/person/place_lived'\n",
    "templates = ['[X] lives in [Y]', '[X] lived in [Y]', '[X] , born in [Y]']\n",
    "\n",
    "for template in templates:\n",
    "    print(template)\n",
    "    loss = run(relation, template)\n",
    "    print(loss)\n",
    "\n",
    "## 11 16 11"
   ]
  },
  {
   "cell_type": "code",
   "execution_count": 58,
   "metadata": {},
   "outputs": [
    {
     "name": "stdout",
     "output_type": "stream",
     "text": [
      "[X] , [Y]\n"
     ]
    },
    {
     "name": "stderr",
     "output_type": "stream",
     "text": [
      "100%|██████████| 1758/1758 [17:30<00:00,  1.67it/s]\n"
     ]
    },
    {
     "name": "stdout",
     "output_type": "stream",
     "text": [
      "13.38991347293714\n",
      "[Y] [X]\n"
     ]
    },
    {
     "name": "stderr",
     "output_type": "stream",
     "text": [
      "100%|██████████| 1758/1758 [20:01<00:00,  1.46it/s]\n"
     ]
    },
    {
     "name": "stdout",
     "output_type": "stream",
     "text": [
      "11.40917787927411\n",
      "[X] [Y]\n"
     ]
    },
    {
     "name": "stderr",
     "output_type": "stream",
     "text": [
      "100%|██████████| 1758/1758 [23:56<00:00,  1.22it/s] \n"
     ]
    },
    {
     "name": "stdout",
     "output_type": "stream",
     "text": [
      "19.017863129521466\n",
      "[X] - [Y]\n"
     ]
    },
    {
     "name": "stderr",
     "output_type": "stream",
     "text": [
      "100%|██████████| 1758/1758 [19:50<00:00,  1.48it/s]\n"
     ]
    },
    {
     "name": "stdout",
     "output_type": "stream",
     "text": [
      "15.160402970436293\n",
      "[X] and in [Y]\n"
     ]
    },
    {
     "name": "stderr",
     "output_type": "stream",
     "text": [
      "100%|██████████| 1758/1758 [20:00<00:00,  1.46it/s]\n"
     ]
    },
    {
     "name": "stdout",
     "output_type": "stream",
     "text": [
      "16.080653077080136\n",
      "[X] lived in [Y]\n"
     ]
    },
    {
     "name": "stderr",
     "output_type": "stream",
     "text": [
      "100%|██████████| 1758/1758 [22:12<00:00,  1.32it/s] \n"
     ]
    },
    {
     "name": "stdout",
     "output_type": "stream",
     "text": [
      "15.239846391992254\n",
      "[X] , [Y] ,\n"
     ]
    },
    {
     "name": "stderr",
     "output_type": "stream",
     "text": [
      "100%|██████████| 1758/1758 [20:04<00:00,  1.46it/s]\n"
     ]
    },
    {
     "name": "stdout",
     "output_type": "stream",
     "text": [
      "8.072169558638912\n",
      "[X] at the [Y]\n"
     ]
    },
    {
     "name": "stderr",
     "output_type": "stream",
     "text": [
      "100%|██████████| 1758/1758 [24:20<00:00,  1.20it/s] \n"
     ]
    },
    {
     "name": "stdout",
     "output_type": "stream",
     "text": [
      "13.412744543054602\n",
      "[X] from the [Y]\n"
     ]
    },
    {
     "name": "stderr",
     "output_type": "stream",
     "text": [
      "100%|██████████| 1758/1758 [20:01<00:00,  1.46it/s]\n"
     ]
    },
    {
     "name": "stdout",
     "output_type": "stream",
     "text": [
      "12.315905910271864\n",
      "[Y] [X] ,\n"
     ]
    },
    {
     "name": "stderr",
     "output_type": "stream",
     "text": [
      "100%|██████████| 1758/1758 [18:10<00:00,  1.61it/s]\n"
     ]
    },
    {
     "name": "stdout",
     "output_type": "stream",
     "text": [
      "11.163660777357471\n",
      "[X] at [Y]\n"
     ]
    },
    {
     "name": "stderr",
     "output_type": "stream",
     "text": [
      "100%|██████████| 1758/1758 [22:21<00:00,  1.31it/s]\n"
     ]
    },
    {
     "name": "stdout",
     "output_type": "stream",
     "text": [
      "16.10741245702946\n",
      "[Y] - born [X]\n"
     ]
    },
    {
     "name": "stderr",
     "output_type": "stream",
     "text": [
      "100%|██████████| 1758/1758 [19:49<00:00,  1.48it/s]\n"
     ]
    },
    {
     "name": "stdout",
     "output_type": "stream",
     "text": [
      "6.795481565752964\n",
      "[X] , born in [Y]\n"
     ]
    },
    {
     "name": "stderr",
     "output_type": "stream",
     "text": [
      "100%|██████████| 1758/1758 [20:32<00:00,  1.43it/s] \n"
     ]
    },
    {
     "name": "stdout",
     "output_type": "stream",
     "text": [
      "11.677484704024625\n",
      "[X] , who was born in [Y]\n"
     ]
    },
    {
     "name": "stderr",
     "output_type": "stream",
     "text": [
      "100%|██████████| 1758/1758 [32:00<00:00,  1.09s/it] \n"
     ]
    },
    {
     "name": "stdout",
     "output_type": "stream",
     "text": [
      "13.455974311619014\n",
      "award : [X] , [Y]\n"
     ]
    },
    {
     "name": "stderr",
     "output_type": "stream",
     "text": [
      "100%|██████████| 1758/1758 [20:41<00:00,  1.42it/s]"
     ]
    },
    {
     "name": "stdout",
     "output_type": "stream",
     "text": [
      "11.337127789909587\n"
     ]
    },
    {
     "name": "stderr",
     "output_type": "stream",
     "text": [
      "\n"
     ]
    }
   ],
   "source": [
    "templates = [\n",
    "    # \"[Y] , [X]\",\n",
    " \"[X] , [Y]\", \"[Y] [X]\", \"[X] [Y]\", \"[X] - [Y]\", \"[X] and in [Y]\", \"[X] lived in [Y]\", \"[X] , [Y] ,\", \"[X] at the [Y]\", \"[X] from the [Y]\", \"[Y] [X] ,\", \"[X] at [Y]\", \"[Y] - born [X]\", \"[X] , born in [Y]\", \"[X] , who was born in [Y]\", \"award : [X] , [Y]\"]\n",
    "for template in templates:\n",
    "    print(template)\n",
    "    loss = run(relation, template)\n",
    "    print(loss)\n",
    "\n",
    "# 9.536"
   ]
  },
  {
   "cell_type": "code",
   "execution_count": 59,
   "metadata": {},
   "outputs": [
    {
     "name": "stdout",
     "output_type": "stream",
     "text": [
      "[X] geographically contains [Y] .\n"
     ]
    },
    {
     "name": "stderr",
     "output_type": "stream",
     "text": [
      "100%|██████████| 2941/2941 [40:01<00:00,  1.22it/s]  \n"
     ]
    },
    {
     "name": "stdout",
     "output_type": "stream",
     "text": [
      "8.066132125692704\n",
      "[X] contains [Y] .\n"
     ]
    },
    {
     "name": "stderr",
     "output_type": "stream",
     "text": [
      "100%|██████████| 2941/2941 [14:02<00:00,  3.49it/s]\n"
     ]
    },
    {
     "name": "stdout",
     "output_type": "stream",
     "text": [
      "9.507862770814024\n",
      "[Y] located in [X] .\n"
     ]
    },
    {
     "name": "stderr",
     "output_type": "stream",
     "text": [
      "100%|██████████| 2941/2941 [13:34<00:00,  3.61it/s]\n"
     ]
    },
    {
     "name": "stdout",
     "output_type": "stream",
     "text": [
      "12.145631687685999\n",
      "[Y] is located in [X] .\n"
     ]
    },
    {
     "name": "stderr",
     "output_type": "stream",
     "text": [
      "100%|██████████| 2941/2941 [21:51<00:00,  2.24it/s]\n"
     ]
    },
    {
     "name": "stdout",
     "output_type": "stream",
     "text": [
      "10.213791070346938\n",
      "[Y] is in [X] .\n"
     ]
    },
    {
     "name": "stderr",
     "output_type": "stream",
     "text": [
      "100%|██████████| 2941/2941 [13:02<00:00,  3.76it/s]\n"
     ]
    },
    {
     "name": "stdout",
     "output_type": "stream",
     "text": [
      "9.13350577041097\n",
      "[Y] [X]\n"
     ]
    },
    {
     "name": "stderr",
     "output_type": "stream",
     "text": [
      "100%|██████████| 2941/2941 [12:47<00:00,  3.83it/s]\n"
     ]
    },
    {
     "name": "stdout",
     "output_type": "stream",
     "text": [
      "10.506316365277888\n",
      "[X] [Y]\n"
     ]
    },
    {
     "name": "stderr",
     "output_type": "stream",
     "text": [
      "100%|██████████| 2941/2941 [15:03<00:00,  3.26it/s]\n"
     ]
    },
    {
     "name": "stdout",
     "output_type": "stream",
     "text": [
      "21.505543280958957\n",
      "[Y] , [X]\n"
     ]
    },
    {
     "name": "stderr",
     "output_type": "stream",
     "text": [
      "100%|██████████| 2941/2941 [11:46<00:00,  4.16it/s]\n"
     ]
    },
    {
     "name": "stdout",
     "output_type": "stream",
     "text": [
      "7.311318049853511\n",
      "people from [Y] , [X]\n"
     ]
    },
    {
     "name": "stderr",
     "output_type": "stream",
     "text": [
      "100%|██████████| 2941/2941 [03:14<00:00, 15.16it/s]\n"
     ]
    },
    {
     "name": "stdout",
     "output_type": "stream",
     "text": [
      "7.186374879230216\n",
      "[Y] , [X] ,\n"
     ]
    },
    {
     "name": "stderr",
     "output_type": "stream",
     "text": [
      "100%|██████████| 2941/2941 [03:16<00:00, 15.00it/s]\n"
     ]
    },
    {
     "name": "stdout",
     "output_type": "stream",
     "text": [
      "7.361007068125183\n",
      "[Y] in [X]\n"
     ]
    },
    {
     "name": "stderr",
     "output_type": "stream",
     "text": [
      "100%|██████████| 2941/2941 [03:45<00:00, 13.02it/s]\n"
     ]
    },
    {
     "name": "stdout",
     "output_type": "stream",
     "text": [
      "11.420278889117641\n",
      "[Y] and [X]\n"
     ]
    },
    {
     "name": "stderr",
     "output_type": "stream",
     "text": [
      "100%|██████████| 2941/2941 [03:26<00:00, 14.21it/s]\n"
     ]
    },
    {
     "name": "stdout",
     "output_type": "stream",
     "text": [
      "9.049167473348971\n",
      "[Y] , the [X]\n"
     ]
    },
    {
     "name": "stderr",
     "output_type": "stream",
     "text": [
      "100%|██████████| 2941/2941 [03:18<00:00, 14.81it/s]\n"
     ]
    },
    {
     "name": "stdout",
     "output_type": "stream",
     "text": [
      "9.234255067615967\n",
      "[Y] , in [X]\n"
     ]
    },
    {
     "name": "stderr",
     "output_type": "stream",
     "text": [
      "100%|██████████| 2941/2941 [03:20<00:00, 14.67it/s]\n"
     ]
    },
    {
     "name": "stdout",
     "output_type": "stream",
     "text": [
      "8.504075358086704\n",
      "in [Y] , [X]\n"
     ]
    },
    {
     "name": "stderr",
     "output_type": "stream",
     "text": [
      "100%|██████████| 2941/2941 [03:18<00:00, 14.82it/s]\n"
     ]
    },
    {
     "name": "stdout",
     "output_type": "stream",
     "text": [
      "7.983050687173038\n",
      "[X] , [Y]\n"
     ]
    },
    {
     "name": "stderr",
     "output_type": "stream",
     "text": [
      "100%|██████████| 2941/2941 [03:57<00:00, 12.36it/s]\n"
     ]
    },
    {
     "name": "stdout",
     "output_type": "stream",
     "text": [
      "16.849903240562693\n",
      "university of [X] , [Y]\n"
     ]
    },
    {
     "name": "stderr",
     "output_type": "stream",
     "text": [
      "100%|██████████| 2941/2941 [03:31<00:00, 13.93it/s]\n"
     ]
    },
    {
     "name": "stdout",
     "output_type": "stream",
     "text": [
      "13.710433042342688\n",
      "east [Y] , [X]\n"
     ]
    },
    {
     "name": "stderr",
     "output_type": "stream",
     "text": [
      "100%|██████████| 2941/2941 [03:37<00:00, 13.53it/s]\n"
     ]
    },
    {
     "name": "stdout",
     "output_type": "stream",
     "text": [
      "9.254566068324367\n",
      "university of [Y] in [X]\n"
     ]
    },
    {
     "name": "stderr",
     "output_type": "stream",
     "text": [
      "100%|██████████| 2941/2941 [03:42<00:00, 13.22it/s]\n"
     ]
    },
    {
     "name": "stdout",
     "output_type": "stream",
     "text": [
      "10.64755086078849\n",
      "[X] populated places on the [Y]\n"
     ]
    },
    {
     "name": "stderr",
     "output_type": "stream",
     "text": [
      "100%|██████████| 2941/2941 [05:21<00:00,  9.16it/s]\n"
     ]
    },
    {
     "name": "stdout",
     "output_type": "stream",
     "text": [
      "12.788118642594466\n",
      "school in [Y] , [X] ,\n"
     ]
    },
    {
     "name": "stderr",
     "output_type": "stream",
     "text": [
      "100%|██████████| 2941/2941 [04:30<00:00, 10.88it/s]\n"
     ]
    },
    {
     "name": "stdout",
     "output_type": "stream",
     "text": [
      "7.331460873544311\n",
      "city of [Y] , [X]\n"
     ]
    },
    {
     "name": "stderr",
     "output_type": "stream",
     "text": [
      "100%|██████████| 2941/2941 [03:40<00:00, 13.33it/s]\n"
     ]
    },
    {
     "name": "stdout",
     "output_type": "stream",
     "text": [
      "8.195436552876677\n",
      "[Y] district of [X]\n"
     ]
    },
    {
     "name": "stderr",
     "output_type": "stream",
     "text": [
      "100%|██████████| 2941/2941 [03:37<00:00, 13.54it/s]\n"
     ]
    },
    {
     "name": "stdout",
     "output_type": "stream",
     "text": [
      "10.813832975654456\n",
      "school in [Y] , [X]\n"
     ]
    },
    {
     "name": "stderr",
     "output_type": "stream",
     "text": [
      "100%|██████████| 2941/2941 [04:11<00:00, 11.68it/s]\n"
     ]
    },
    {
     "name": "stdout",
     "output_type": "stream",
     "text": [
      "7.279377772047234\n",
      "home in [Y] , [X] ,\n"
     ]
    },
    {
     "name": "stderr",
     "output_type": "stream",
     "text": [
      "100%|██████████| 2941/2941 [04:36<00:00, 10.62it/s]"
     ]
    },
    {
     "name": "stdout",
     "output_type": "stream",
     "text": [
      "7.593409359094912\n"
     ]
    },
    {
     "name": "stderr",
     "output_type": "stream",
     "text": [
      "\n"
     ]
    }
   ],
   "source": [
    "relation = '/location/location/contains'\n",
    "templates = [\n",
    "    \"[X] geographically contains [Y] .\",\n",
    "    \"[X] contains [Y] .\",\n",
    "    \"[Y] located in [X] .\",\n",
    "    \"[Y] is located in [X] .\",\n",
    "    \"[Y] is in [X] .\",\n",
    "    \"[Y] [X]\",\n",
    "    \"[X] [Y]\",\n",
    "    \"[Y] , [X]\",\n",
    "    \"people from [Y] , [X]\",\n",
    "    \"[Y] , [X] ,\",\n",
    "    \"[Y] in [X]\",\n",
    "    \"[Y] and [X]\",\n",
    "    \"[Y] , the [X]\",\n",
    "    \"[Y] , in [X]\",\n",
    "    \"in [Y] , [X]\",\n",
    "    \"[X] , [Y]\",\n",
    "    \"university of [X] , [Y]\",\n",
    "    \"east [Y] , [X]\",\n",
    "    \"university of [Y] in [X]\",\n",
    "    \"[X] populated places on the [Y]\",\n",
    "    \"school in [Y] , [X] ,\",\n",
    "    \"city of [Y] , [X]\",\n",
    "    \"[Y] district of [X]\",\n",
    "    \"school in [Y] , [X]\",\n",
    "    \"home in [Y] , [X] ,\"\n",
    "    ]\n",
    "for template in templates:\n",
    "    print(template)\n",
    "    loss = run(relation, template)\n",
    "    print(loss)"
   ]
  },
  {
   "cell_type": "code",
   "execution_count": null,
   "metadata": {},
   "outputs": [],
   "source": [
    "relation = '/people/person/nationality'\n",
    "\n",
    "templates = [\n",
    "    \"The nationality of [X] is [Y] .\",\n",
    "    \"[X]'s nationality is [Y] .\",\n",
    "    \"nationality of [X] - [Y] .\",\n",
    "    \"[X] is from [Y] .\",\n",
    "    \"[X] is from [Y] (country) .\",\n",
    "    \"[X] born in [Y] .\",\n",
    "    \"[X] was born in [Y] .\",\n",
    "    \"[X] is a [Y] citizen .\",\n",
    "    \"[Y] [X]\",\n",
    "    \"[X] ( [Y] )\",\n",
    "    \"[X] is an [Y]\",\n",
    "    \"[X] in [Y]\",\n",
    "    \"[X] as [Y]\",\n",
    "    \"[X] , [Y]\",\n",
    "    \"[Y] , [X]\",\n",
    "    \"[X] ( [Y] ),\",\n",
    "    \"[X] of [Y]\",\n",
    "    \"[Y] , [X] ,\",\n",
    "    \"[X] of [Y] ,\",\n",
    "    \"[X] in , [Y]\",\n",
    "    \"[Y] - [X]\",\n",
    "    \"[X] from [Y] ,\",\n",
    "    \"[X] in the [Y]\",\n",
    "    \"[X] , the [Y]\",\n",
    "    \"[X] from [Y]\",\n",
    "    \"[X] and the [Y]\",\n",
    "    \"[X] - [Y]\",\n",
    "    \"[X] of the times of [Y]\",\n",
    "    \"[X] , [Y] )\",\n",
    "    \"( [Y] ) [X]\",\n",
    "    \"[X] [Y]\",\n",
    "    \"[Y] ' s [X]\",\n",
    "    \"[X] , a [Y]\",\n",
    "    \"[X] , an [Y]\",\n",
    "    \"[Y] and [X]\",\n",
    "    \"[X] ' s [Y]\",\n",
    "    \"[X] , [Y] ,\",\n",
    "    \"[X] , [Y] '\",\n",
    "    \"[Y] under [X]\",\n",
    "    \"[Y] by [X]\",\n",
    "    \"[X] , - [Y]\",\n",
    "    \"[Y] captain [X]\",\n",
    "    \"[Y] ' s [X] ,\",\n",
    "    \"[X] of the [Y]\",\n",
    "    \"[X] and [Y]\",\n",
    "    \"[Y] : [X]\",\n",
    "    \"[Y] with [X]\",\n",
    "    \"[Y] after [X]\",\n",
    "    \"[X] [Y] '\",\n",
    "    \"[X] the [Y]\",\n",
    "    \"[Y] leader [X]\"\n",
    "    ]\n",
    "\n",
    "for template in templates:\n",
    "    print(template)\n",
    "    loss = run(relation, template)\n",
    "    print(loss)"
   ]
  }
 ],
 "metadata": {
  "kernelspec": {
   "display_name": "Python 3.8.13 ('kgc')",
   "language": "python",
   "name": "python3"
  },
  "language_info": {
   "codemirror_mode": {
    "name": "ipython",
    "version": 3
   },
   "file_extension": ".py",
   "mimetype": "text/x-python",
   "name": "python",
   "nbconvert_exporter": "python",
   "pygments_lexer": "ipython3",
   "version": "3.8.13"
  },
  "orig_nbformat": 4,
  "vscode": {
   "interpreter": {
    "hash": "3d0509d9aa81f2882b18eeb72d4d23c32cae9029e9b99f63cde94ba86c35ac78"
   }
  }
 },
 "nbformat": 4,
 "nbformat_minor": 2
}
