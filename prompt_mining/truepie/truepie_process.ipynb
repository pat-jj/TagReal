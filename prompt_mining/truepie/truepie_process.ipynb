{
 "cells": [
  {
   "cell_type": "code",
   "execution_count": 1,
   "metadata": {
    "collapsed": false
   },
   "outputs": [
    {
     "data": {
      "text/plain": [
       "'3000000 300\\n'"
      ]
     },
     "execution_count": 1,
     "metadata": {},
     "output_type": "execute_result"
    }
   ],
   "source": [
    "with open('../../../TruePIE/input/word_embedding.txt', 'r') as f:\n",
    "    lines = f.readlines()\n",
    "\n",
    "lines[0]"
   ]
  },
  {
   "cell_type": "code",
   "execution_count": 22,
   "metadata": {},
   "outputs": [
    {
     "name": "stderr",
     "output_type": "stream",
     "text": [
      "100%|██████████| 3000001/3000001 [05:10<00:00, 9647.33it/s] \n"
     ]
    }
   ],
   "source": [
    "import pandas as pd\n",
    "import pickle\n",
    "from tqdm import tqdm\n",
    "df = pd.DataFrame()\n",
    "words = []\n",
    "embs = []\n",
    "for line in tqdm(lines):\n",
    "    word = line.split(' ')[0]\n",
    "    emb = line.split(' ')[1:]\n",
    "    for i in range(len(emb)):\n",
    "        emb[i] = float(emb[i])\n",
    "    words.append(word)\n",
    "    embs.append(emb)\n",
    "df['word'] = words\n",
    "df['emb'] = embs\n",
    "\n",
    "df.to_pickle('../../../TruePIE/input/word_embedding.pickle')"
   ]
  },
  {
   "cell_type": "code",
   "execution_count": 26,
   "metadata": {},
   "outputs": [],
   "source": [
    "embedding_dict = pickle.load(open('../../../TruePIE/input/word_embedding.pickle','rb'))"
   ]
  },
  {
   "cell_type": "code",
   "execution_count": 71,
   "metadata": {},
   "outputs": [
    {
     "data": {
      "text/plain": [
       "True"
      ]
     },
     "execution_count": 71,
     "metadata": {},
     "output_type": "execute_result"
    }
   ],
   "source": [
    "'United_Nations' in embedding_dict['word'].to_numpy()"
   ]
  },
  {
   "cell_type": "code",
   "execution_count": null,
   "metadata": {},
   "outputs": [],
   "source": [
    "import numpy as np\n",
    "from collections import defaultdict\n",
    "import pickle\n",
    "from tqdm import tqdm\n",
    "\n",
    "embedding_dict = pickle.load(open('../../../TruePIE/input/word_embedding.pickle','rb'))\n",
    "pattern_file = '../../../TruePIE/input/pattern.txt'\n",
    "words = embedding_dict['word'].to_numpy()\n",
    "embs = embedding_dict['emb'].to_numpy()\n",
    "progress = 0\n",
    "\n",
    "def emb_of_word(word, words, embs):\n",
    "    if word not in words:\n",
    "        terms = word.split('_')\n",
    "    else:\n",
    "        idx = np.where(words == word)[0]\n",
    "        return word, np.array(embs[idx][0])\n",
    "    cap_ = ''\n",
    "    for term in terms:\n",
    "        cap_ += term.capitalize() + '_'\n",
    "    cap_ = cap_[:-1]\n",
    "    if cap_ not in words:\n",
    "        return None, np.zeros(300)\n",
    "    else:\n",
    "        idx = np.where(words == cap_)[0]\n",
    "        return cap_, np.array(embs[idx][0])\n",
    "\n",
    "emb_e_v_pairs = {}\n",
    "feature_vec1 = dict()\n",
    "ev_diff_count = defaultdict(list)\n",
    "with open(pattern_file) as f:\n",
    "    patterns, pattern2patternid = [], {}\n",
    "    for line in tqdm(f):\n",
    "        emb_e_v_pair = {}\n",
    "        row = line.rstrip('\\n').split('\\t')\n",
    "        (wd_e, emb_e), (wd_v, emb_v) = emb_of_word(row[3], words, embs), emb_of_word(row[4], words, embs)\n",
    "        if wd_e is None or wd_v is None:\n",
    "            continue\n",
    "        emb_e_v_pair['e'] = emb_e\n",
    "        emb_e_v_pair['v'] = emb_v\n",
    "        emb_e_v_pairs[wd_e + ',' + wd_v] = emb_e_v_pair\n",
    "\n",
    "        if row[0] not in feature_vec1:\n",
    "            pattern = row[0] + '\\t' + row[1] + '\\t' + row[2]\n",
    "            row[0] = row[0].replace('_', ' ')\n",
    "            pattern_t = row[0].split()\n",
    "            pattern_t = [element for i, element in enumerate(pattern_t) if i not in (row[1], row[2])]\n",
    "\n",
    "            for i in range(len(pattern_t)):\n",
    "                if pattern_t[i] == ',':\n",
    "                    pattern_t[i] = '</s>'\n",
    "\n",
    "            pattern_emb = [np.array(embs[np.where(words == w)[0]][0]) for w in pattern_t if w in words]\n",
    "\n",
    "            if not pattern_emb:\n",
    "                continue\n",
    "\n",
    "            if not pattern in pattern2patternid:\n",
    "                patterns.append(pattern)\n",
    "                pattern2patternid[pattern] = len(pattern2patternid)\n",
    "            patternid = pattern2patternid[pattern]\n",
    "            feature_vec1[patternid] =np.mean(pattern_emb, axis=0).tolist()\n",
    "\n",
    "        patternid = pattern2patternid[pattern]\n",
    "        ev_diff_count[patternid].append(((emb_e-emb_v).tolist(), row[5]))\n",
    "\n",
    "        \n",
    "print('length of patterns: %s\\n' % len(patterns))\n",
    "with open('../../../TruePIE/input/feature/'+'pattern2patternid'+ '.pickle', 'wb') as fp:\n",
    "    pickle.dump(pattern2patternid, fp)\n",
    "            \n",
    "with open('../../../TruePIE/input/feature/'+'patternid2pattern'+ '.pickle', 'wb') as fp:\n",
    "\tpickle.dump(patterns, fp)\n",
    "        \n",
    "feature_vec2 = {pattern: np.mean([tpl[0] for tpl in ev_diff_count[pattern]], axis=0).tolist() for pattern in ev_diff_count}\n",
    "\n",
    "print('length of patterns (feature1): %s\\n' % len(feature_vec1))\n",
    "with open('../../../TruePIE/input/feature/'+'feature1'+ '.pickle', 'wb') as fp:\n",
    "    pickle.dump(feature_vec1, fp)\n",
    "print('length of patterns (feature2_mean): %s\\n' % len(feature_vec2))\n",
    "with open('../../../TruePIE/input/feature/'+'feature2_mean'+ '.pickle', 'wb') as fp:\n",
    "    pickle.dump(feature_vec2, fp)\n",
    "            \n",
    "        "
   ]
  },
  {
   "cell_type": "code",
   "execution_count": 101,
   "metadata": {},
   "outputs": [
    {
     "data": {
      "text/plain": [
       "0.0020951839426666635"
      ]
     },
     "execution_count": 101,
     "metadata": {},
     "output_type": "execute_result"
    }
   ],
   "source": [
    "np.mean(np.array(embs[np.where(words == 'founder')[0]][0]) - np.array(embs[np.where(words == 'FOUNDER')[0]][0]))"
   ]
  },
  {
   "cell_type": "code",
   "execution_count": 99,
   "metadata": {},
   "outputs": [
    {
     "data": {
      "text/plain": [
       "0.01601617795933333"
      ]
     },
     "execution_count": 99,
     "metadata": {},
     "output_type": "execute_result"
    }
   ],
   "source": [
    "np.mean(np.array(embs[np.where(words == 'ceo')[0]][0]) - np.array(embs[np.where(words == 'FOUNDER')[0]][0]))"
   ]
  },
  {
   "cell_type": "code",
   "execution_count": 22,
   "metadata": {},
   "outputs": [
    {
     "data": {
      "text/plain": [
       "(array([], dtype=int64),)"
      ]
     },
     "execution_count": 22,
     "metadata": {},
     "output_type": "execute_result"
    }
   ],
   "source": [
    "np.where(words == 'P1kaboodle')"
   ]
  },
  {
   "cell_type": "code",
   "execution_count": 2,
   "metadata": {},
   "outputs": [],
   "source": [
    "\n",
    "import gensim\n",
    "# Need the interactive Tools for Matplotlib\n",
    "%matplotlib inline\n",
    "import numpy as np\n",
    "import matplotlib.pyplot as plt\n",
    "from sklearn.manifold import TSNE\n",
    "\n",
    "model = gensim.models.KeyedVectors.load_word2vec_format('../../../pretrianed-word2vec/GoogleNews-vectors-negative300.bin.gz', binary=True)\n"
   ]
  },
  {
   "cell_type": "code",
   "execution_count": 115,
   "metadata": {},
   "outputs": [],
   "source": [
    "\n",
    "def get_similar_word2vec_words(model, word):\n",
    "    word_labels = [word]\n",
    "    close_words = model.similar_by_word(word)\n",
    "    for wrd_score in close_words:\n",
    "        word_labels.append(wrd_score[0])\n",
    "\n",
    "    return word_labels\n",
    "\n",
    "\n",
    "def display_word2vec_plot(model, word_labels):\n",
    "    \n",
    "    arr = np.empty((0,300), dtype='f')\n",
    "    \n",
    "    # add the vector for each of the closest words to the array\n",
    "    for w in word_labels:\n",
    "        if w[0] == 'p':\n",
    "            wrd_vector = model[w.split(':')[1]]\n",
    "        else:\n",
    "            wrd_vector = model[w]\n",
    "        arr = np.append(arr, np.array([wrd_vector]), axis=0)\n",
    "        \n",
    "    # find tsne coords for 2 dimensions\n",
    "    tsne = TSNE(n_components=2, random_state=123)\n",
    "    np.set_printoptions(suppress=True)\n",
    "    Y = tsne.fit_transform(arr)\n",
    "\n",
    "    x_coords = Y[:, 0]\n",
    "    y_coords = Y[:, 1]\n",
    "    # display scatter plot\n",
    "    plt.scatter(x_coords, y_coords)\n",
    "\n",
    "    for label, x, y in zip(word_labels, x_coords, y_coords):\n",
    "        plt.annotate(label, xy=(x, y), xytext=(0, 0), textcoords='offset points')\n",
    "    plt.xlim(x_coords.min()+0.00005, x_coords.max()+0.00005)\n",
    "    plt.ylim(y_coords.min()+0.00005, y_coords.max()+0.00005)\n",
    "    plt.show()"
   ]
  },
  {
   "cell_type": "code",
   "execution_count": 116,
   "metadata": {},
   "outputs": [],
   "source": [
    "import random\n",
    "i = 1\n",
    "words= []\n",
    "keys = [*emb_e_v_pairs.keys()]\n",
    "random.shuffle(keys)\n",
    "for key in keys:\n",
    "    E, V = key.split(',')\n",
    "    E, V = f'p{i}:' + E, f'p{i}:' + V\n",
    "    words.append(E)\n",
    "    words.append(V)\n",
    "    i += 1\n",
    "    if i > 10:\n",
    "        break\n",
    "    \n",
    "words.append('founder')\n",
    "words.append('company')\n"
   ]
  },
  {
   "cell_type": "code",
   "execution_count": 117,
   "metadata": {},
   "outputs": [
    {
     "data": {
      "image/png": "[encoded data removed]",
      "text/plain": [
       "<Figure size 640x480 with 1 Axes>"
      ]
     },
     "metadata": {},
     "output_type": "display_data"
    }
   ],
   "source": [
    "display_word2vec_plot(model, words)"
   ]
  },
  {
   "cell_type": "code",
   "execution_count": 126,
   "metadata": {},
   "outputs": [
    {
     "name": "stderr",
     "output_type": "stream",
     "text": [
      "100%|██████████| 52803/52803 [11:30<00:00, 76.50it/s]  \n"
     ]
    }
   ],
   "source": [
    "import nltk\n",
    "corpus_ = '../../../../../data/pj20/corpus_text_low.txt'\n",
    "with open(corpus_) as f:\n",
    "    data = f.readlines()\n",
    "\n",
    "results = []\n",
    "for sentence in tqdm(data):\n",
    "    sentence_results = []\n",
    "    for s in sentence:\n",
    "        sentence_results.append(nltk.word_tokenize(sentence))\n",
    "    results.append(sentence_results)\n"
   ]
  },
  {
   "cell_type": "code",
   "execution_count": null,
   "metadata": {},
   "outputs": [],
   "source": [
    "import nltk\n",
    "corpus_ = '../../../../../data/pj20/corpus_text_low.txt'\n",
    "with open(corpus_) as f:\n",
    "    data = f.readlines()\n",
    "\n",
    "results = []\n",
    "for sentence in tqdm(data):\n",
    "    sentence_results = []\n",
    "    for s in sentence:\n",
    "        sentence_results.append(nltk.word_tokenize(sentence))\n",
    "    results.append(sentence_results)"
   ]
  },
  {
   "cell_type": "code",
   "execution_count": null,
   "metadata": {},
   "outputs": [],
   "source": [
    "from gensim.models import KeyedVectors, Word2Vec\n",
    "\n",
    "model_new = Word2Vec(size=300, min_count=1)\n",
    "model_new.build_vocab(results)\n",
    "total_examples = model_new.corpus_count\n",
    "model_new.build_vocab(list(model.vocab.keys()), update=True)\n",
    "model_new.intersect_word2vec_format('../../../pretrianed-word2vec/GoogleNews-vectors-negative300.bin.gz', binary=True, lockf=1.0)\n",
    "model_new.train(results, total_examples=total_examples, epochs=model_new.iter)"
   ]
  }
 ],
 "metadata": {
  "kernelspec": {
   "display_name": "Python 3.8.13 ('kgc')",
   "language": "python",
   "name": "python3"
  },
  "language_info": {
   "codemirror_mode": {
    "name": "ipython",
    "version": 3
   },
   "file_extension": ".py",
   "mimetype": "text/x-python",
   "name": "python",
   "nbconvert_exporter": "python",
   "pygments_lexer": "ipython3",
   "version": "3.8.13"
  },
  "vscode": {
   "interpreter": {
    "hash": "3d0509d9aa81f2882b18eeb72d4d23c32cae9029e9b99f63cde94ba86c35ac78"
   }
  }
 },
 "nbformat": 4,
 "nbformat_minor": 0
}
