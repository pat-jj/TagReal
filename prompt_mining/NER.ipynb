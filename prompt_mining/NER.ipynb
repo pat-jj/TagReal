{
 "cells": [
  {
   "cell_type": "code",
   "execution_count": null,
   "metadata": {},
   "outputs": [],
   "source": [
    "from transformers import LukeTokenizer, LukeForEntityClassification\n",
    "\n",
    "tokenizer = LukeTokenizer.from_pretrained(\"studio-ousia/luke-large-finetuned-open-entity\")\n",
    "model = LukeForEntityClassification.from_pretrained(\"studio-ousia/luke-large-finetuned-open-entity\")"
   ]
  },
  {
   "cell_type": "code",
   "execution_count": 23,
   "metadata": {},
   "outputs": [],
   "source": [
    "def NER(text, entity):\n",
    "    start = text.find(entity)\n",
    "    entity_spans = [(start, start+len(entity)-1)]  # character-based entity span corresponding to \"Beyoncé\"\n",
    "    inputs = tokenizer(text, entity_spans=entity_spans, return_tensors=\"pt\")\n",
    "    outputs = model(**inputs)\n",
    "    logits = outputs.logits\n",
    "    predicted_class_idx = logits.argmax(-1).item()\n",
    "    print(f\"Predicted class of {entity}:\", model.config.id2label[predicted_class_idx])"
   ]
  },
  {
   "cell_type": "code",
   "execution_count": 25,
   "metadata": {},
   "outputs": [
    {
     "name": "stdout",
     "output_type": "stream",
     "text": [
      "Predicted class of [X]: organization\n",
      "Predicted class of [Y]: person\n",
      "Predicted class of [X]: organization\n",
      "Predicted class of [Y]: person\n",
      "Predicted class of [X]: place\n",
      "Predicted class of [Y]: person\n",
      "Predicted class of united_nations: organization\n"
     ]
    }
   ],
   "source": [
    "NER(text = \"[X] is founded by [Y]\", entity=\"[X]\")\n",
    "NER(text = \"[X] is founded by [Y]\", entity=\"[Y]\")\n",
    "NER(text = \"[Y] , founder of [X]\", entity=\"[X]\")\n",
    "NER(text = \"[Y] , founder of [X]\", entity=\"[Y]\")\n",
    "NER(text = \"[Y] mission in [X]\", entity=\"[X]\")\n",
    "NER(text = \"[Y] mission in [X]\", entity=\"[Y]\")\n",
    "NER(\"united_nations is founded by norway\", \"united_nations\")\n"
   ]
  },
  {
   "cell_type": "code",
   "execution_count": null,
   "metadata": {},
   "outputs": [],
   "source": []
  }
 ],
 "metadata": {
  "kernelspec": {
   "display_name": "Python 3.8.13 ('kgc')",
   "language": "python",
   "name": "python3"
  },
  "language_info": {
   "codemirror_mode": {
    "name": "ipython",
    "version": 3
   },
   "file_extension": ".py",
   "mimetype": "text/x-python",
   "name": "python",
   "nbconvert_exporter": "python",
   "pygments_lexer": "ipython3",
   "version": "3.8.13"
  },
  "orig_nbformat": 4,
  "vscode": {
   "interpreter": {
    "hash": "3d0509d9aa81f2882b18eeb72d4d23c32cae9029e9b99f63cde94ba86c35ac78"
   }
  }
 },
 "nbformat": 4,
 "nbformat_minor": 2
}
